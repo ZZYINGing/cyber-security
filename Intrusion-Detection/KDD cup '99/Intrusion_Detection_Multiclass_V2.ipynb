{
  "nbformat": 4,
  "nbformat_minor": 0,
  "metadata": {
    "kernelspec": {
      "name": "python3",
      "display_name": "Python 3"
    },
    "language_info": {
      "codemirror_mode": {
        "name": "ipython",
        "version": 3
      },
      "file_extension": ".py",
      "mimetype": "text/x-python",
      "name": "python",
      "nbconvert_exporter": "python",
      "pygments_lexer": "ipython3",
      "version": "3.7.3"
    },
    "colab": {
      "name": "amonalyDetection/Intrusion Detection.ipynb",
      "provenance": [],
      "collapsed_sections": [],
      "include_colab_link": true
    }
  },
  "cells": [
    {
      "cell_type": "markdown",
      "metadata": {
        "id": "view-in-github",
        "colab_type": "text"
      },
      "source": [
        "<a href=\"https://colab.research.google.com/github/alik604/cyber-security/blob/master/Intrusion-Detection/KDD%20cup%20'99/Intrusion%20Detection%20V2%2099.99acc%20Multiclass_CLF.ipynb\" target=\"_parent\"><img src=\"https://colab.research.google.com/assets/colab-badge.svg\" alt=\"Open In Colab\"/></a>"
      ]
    },
    {
      "cell_type": "markdown",
      "metadata": {
        "id": "-ZixxRgn_QE2",
        "colab_type": "text"
      },
      "source": [
        "# Intrusion Detection \n",
        "\n",
        "### Dataset from https://www.kaggle.com/what0919/intrusion-detection\n",
        "\n",
        "### Sample code used: https://www.kaggle.com/nidhirastogi/intrusion-detection/data\n"
      ]
    },
    {
      "cell_type": "code",
      "metadata": {
        "id": "m9hIv2s7_QE6",
        "colab_type": "code",
        "colab": {}
      },
      "source": [
        "%%capture\n",
        "\n",
        "%config IPCompleter.greedy=True\n",
        "import pandas as pd\n",
        "# import seaborn as sns\n",
        "import numpy as np\n",
        "import sklearn\n",
        "from sklearn.model_selection import train_test_split\n",
        "from sklearn import preprocessing\n",
        "\n",
        "!pip install catboost\n",
        "import xgboost  # xgboost.readthedocs.io/en/latest/python/python_api.html#xgboost.XGBClassifier\n",
        "import lightgbm # lightgbm.readthedocs.io/en/latest/pythonapi/lightgbm.LGBMClassifier.html\n",
        "import catboost # catboost.ai/docs/concepts/python-quickstart.html\n",
        "\n",
        "\n",
        "\n",
        "import matplotlib.pyplot as plt\n",
        "%matplotlib inline\n",
        "\n",
        "from collections import Counter\n",
        "\n",
        "from IPython.core.interactiveshell import InteractiveShell\n",
        "InteractiveShell.ast_node_interactivity = \"all\"\n",
        "\n",
        "import warnings\n",
        "warnings.filterwarnings(\"ignore\")"
      ],
      "execution_count": 1,
      "outputs": []
    },
    {
      "cell_type": "code",
      "metadata": {
        "id": "xcmNZAzs_Svh",
        "colab_type": "code",
        "colab": {}
      },
      "source": [
        "%%bash\n",
        "wget \"https://github.com/alik604/cyber-security/raw/master/Intrusion-Detection/KDD%20cup%20'99/kddcup.data.7z\"\n",
        "# repeat after me, GitHub is a Content Delivery Network\n",
        "\n",
        "sudo apt-get install p7zip-full\n",
        "7z x kddcup.data.7z\n",
        "\n",
        "ls"
      ],
      "execution_count": 24,
      "outputs": []
    },
    {
      "cell_type": "code",
      "metadata": {
        "id": "JH1rg6ZqAxp-",
        "colab_type": "code",
        "colab": {
          "base_uri": "https://localhost:8080/",
          "height": 248
        },
        "outputId": "e207b629-60f2-4e0a-b011-b2ce6427dc33"
      },
      "source": [
        "columns = [\"duration\" , \"protocol_type\" , \"service\" , \"flag\" , \"src_bytes\" , \"dst_bytes\" , \"land\" , \"wrong_fragment\" , \"urgent\" , \"hot\" , \"num_failed_logins\" , \"logged_in\" , \"num_compromised\" ,\n",
        "           \"root_shell\" , \"su_attempted\" , \"num_root\" , \"num_file_creations\" , \"num_shells\" , \"num_access_files\" , \"num_outbound_cmds\" , \"is_host_login\" , \"is_guest_login\" , \"count\" , \"srv_count\" ,\n",
        "           \"serror_rate\" , \"srv_serror_rate\" , \"rerror_rate\" , \"srv_rerror_rate\" , \"same_srv_rate\" , \"diff_srv_rate\" , \"srv_diff_host_rate\" , \"dst_host_count\" , \"dst_host_srv_count\" , \"dst_host_same_srv_rate\" ,\n",
        "           \"dst_host_diff_srv_rate\" , \"dst_host_same_src_port_rate\" , \"dst_host_srv_diff_host_rate\" , \"dst_host_serror_rate\" , \"dst_host_srv_serror_rate\" , \"dst_host_rerror_rate\" , \"dst_host_srv_rerror_rate\" , \"xAttack\"]\n",
        "\n",
        "all = pd.read_csv('./kddcup.data.csv', names=columns, index_col=0)\n",
        "\n",
        "all.head(5)"
      ],
      "execution_count": 3,
      "outputs": [
        {
          "output_type": "execute_result",
          "data": {
            "text/html": [
              "<div>\n",
              "<style scoped>\n",
              "    .dataframe tbody tr th:only-of-type {\n",
              "        vertical-align: middle;\n",
              "    }\n",
              "\n",
              "    .dataframe tbody tr th {\n",
              "        vertical-align: top;\n",
              "    }\n",
              "\n",
              "    .dataframe thead th {\n",
              "        text-align: right;\n",
              "    }\n",
              "</style>\n",
              "<table border=\"1\" class=\"dataframe\">\n",
              "  <thead>\n",
              "    <tr style=\"text-align: right;\">\n",
              "      <th></th>\n",
              "      <th>protocol_type</th>\n",
              "      <th>service</th>\n",
              "      <th>flag</th>\n",
              "      <th>src_bytes</th>\n",
              "      <th>dst_bytes</th>\n",
              "      <th>land</th>\n",
              "      <th>wrong_fragment</th>\n",
              "      <th>urgent</th>\n",
              "      <th>hot</th>\n",
              "      <th>num_failed_logins</th>\n",
              "      <th>logged_in</th>\n",
              "      <th>num_compromised</th>\n",
              "      <th>root_shell</th>\n",
              "      <th>su_attempted</th>\n",
              "      <th>num_root</th>\n",
              "      <th>num_file_creations</th>\n",
              "      <th>num_shells</th>\n",
              "      <th>num_access_files</th>\n",
              "      <th>num_outbound_cmds</th>\n",
              "      <th>is_host_login</th>\n",
              "      <th>is_guest_login</th>\n",
              "      <th>count</th>\n",
              "      <th>srv_count</th>\n",
              "      <th>serror_rate</th>\n",
              "      <th>srv_serror_rate</th>\n",
              "      <th>rerror_rate</th>\n",
              "      <th>srv_rerror_rate</th>\n",
              "      <th>same_srv_rate</th>\n",
              "      <th>diff_srv_rate</th>\n",
              "      <th>srv_diff_host_rate</th>\n",
              "      <th>dst_host_count</th>\n",
              "      <th>dst_host_srv_count</th>\n",
              "      <th>dst_host_same_srv_rate</th>\n",
              "      <th>dst_host_diff_srv_rate</th>\n",
              "      <th>dst_host_same_src_port_rate</th>\n",
              "      <th>dst_host_srv_diff_host_rate</th>\n",
              "      <th>dst_host_serror_rate</th>\n",
              "      <th>dst_host_srv_serror_rate</th>\n",
              "      <th>dst_host_rerror_rate</th>\n",
              "      <th>dst_host_srv_rerror_rate</th>\n",
              "      <th>xAttack</th>\n",
              "    </tr>\n",
              "    <tr>\n",
              "      <th>duration</th>\n",
              "      <th></th>\n",
              "      <th></th>\n",
              "      <th></th>\n",
              "      <th></th>\n",
              "      <th></th>\n",
              "      <th></th>\n",
              "      <th></th>\n",
              "      <th></th>\n",
              "      <th></th>\n",
              "      <th></th>\n",
              "      <th></th>\n",
              "      <th></th>\n",
              "      <th></th>\n",
              "      <th></th>\n",
              "      <th></th>\n",
              "      <th></th>\n",
              "      <th></th>\n",
              "      <th></th>\n",
              "      <th></th>\n",
              "      <th></th>\n",
              "      <th></th>\n",
              "      <th></th>\n",
              "      <th></th>\n",
              "      <th></th>\n",
              "      <th></th>\n",
              "      <th></th>\n",
              "      <th></th>\n",
              "      <th></th>\n",
              "      <th></th>\n",
              "      <th></th>\n",
              "      <th></th>\n",
              "      <th></th>\n",
              "      <th></th>\n",
              "      <th></th>\n",
              "      <th></th>\n",
              "      <th></th>\n",
              "      <th></th>\n",
              "      <th></th>\n",
              "      <th></th>\n",
              "      <th></th>\n",
              "      <th></th>\n",
              "    </tr>\n",
              "  </thead>\n",
              "  <tbody>\n",
              "    <tr>\n",
              "      <th>0</th>\n",
              "      <td>tcp</td>\n",
              "      <td>http</td>\n",
              "      <td>SF</td>\n",
              "      <td>215</td>\n",
              "      <td>45076</td>\n",
              "      <td>0</td>\n",
              "      <td>0</td>\n",
              "      <td>0</td>\n",
              "      <td>0</td>\n",
              "      <td>0</td>\n",
              "      <td>1</td>\n",
              "      <td>0</td>\n",
              "      <td>0</td>\n",
              "      <td>0</td>\n",
              "      <td>0</td>\n",
              "      <td>0</td>\n",
              "      <td>0</td>\n",
              "      <td>0</td>\n",
              "      <td>0</td>\n",
              "      <td>0</td>\n",
              "      <td>0</td>\n",
              "      <td>1</td>\n",
              "      <td>1</td>\n",
              "      <td>0.0</td>\n",
              "      <td>0.0</td>\n",
              "      <td>0.0</td>\n",
              "      <td>0.0</td>\n",
              "      <td>1.0</td>\n",
              "      <td>0.0</td>\n",
              "      <td>0.0</td>\n",
              "      <td>0</td>\n",
              "      <td>0</td>\n",
              "      <td>0.0</td>\n",
              "      <td>0.0</td>\n",
              "      <td>0.00</td>\n",
              "      <td>0.0</td>\n",
              "      <td>0.0</td>\n",
              "      <td>0.0</td>\n",
              "      <td>0.0</td>\n",
              "      <td>0.0</td>\n",
              "      <td>normal.</td>\n",
              "    </tr>\n",
              "    <tr>\n",
              "      <th>0</th>\n",
              "      <td>tcp</td>\n",
              "      <td>http</td>\n",
              "      <td>SF</td>\n",
              "      <td>162</td>\n",
              "      <td>4528</td>\n",
              "      <td>0</td>\n",
              "      <td>0</td>\n",
              "      <td>0</td>\n",
              "      <td>0</td>\n",
              "      <td>0</td>\n",
              "      <td>1</td>\n",
              "      <td>0</td>\n",
              "      <td>0</td>\n",
              "      <td>0</td>\n",
              "      <td>0</td>\n",
              "      <td>0</td>\n",
              "      <td>0</td>\n",
              "      <td>0</td>\n",
              "      <td>0</td>\n",
              "      <td>0</td>\n",
              "      <td>0</td>\n",
              "      <td>2</td>\n",
              "      <td>2</td>\n",
              "      <td>0.0</td>\n",
              "      <td>0.0</td>\n",
              "      <td>0.0</td>\n",
              "      <td>0.0</td>\n",
              "      <td>1.0</td>\n",
              "      <td>0.0</td>\n",
              "      <td>0.0</td>\n",
              "      <td>1</td>\n",
              "      <td>1</td>\n",
              "      <td>1.0</td>\n",
              "      <td>0.0</td>\n",
              "      <td>1.00</td>\n",
              "      <td>0.0</td>\n",
              "      <td>0.0</td>\n",
              "      <td>0.0</td>\n",
              "      <td>0.0</td>\n",
              "      <td>0.0</td>\n",
              "      <td>normal.</td>\n",
              "    </tr>\n",
              "    <tr>\n",
              "      <th>0</th>\n",
              "      <td>tcp</td>\n",
              "      <td>http</td>\n",
              "      <td>SF</td>\n",
              "      <td>236</td>\n",
              "      <td>1228</td>\n",
              "      <td>0</td>\n",
              "      <td>0</td>\n",
              "      <td>0</td>\n",
              "      <td>0</td>\n",
              "      <td>0</td>\n",
              "      <td>1</td>\n",
              "      <td>0</td>\n",
              "      <td>0</td>\n",
              "      <td>0</td>\n",
              "      <td>0</td>\n",
              "      <td>0</td>\n",
              "      <td>0</td>\n",
              "      <td>0</td>\n",
              "      <td>0</td>\n",
              "      <td>0</td>\n",
              "      <td>0</td>\n",
              "      <td>1</td>\n",
              "      <td>1</td>\n",
              "      <td>0.0</td>\n",
              "      <td>0.0</td>\n",
              "      <td>0.0</td>\n",
              "      <td>0.0</td>\n",
              "      <td>1.0</td>\n",
              "      <td>0.0</td>\n",
              "      <td>0.0</td>\n",
              "      <td>2</td>\n",
              "      <td>2</td>\n",
              "      <td>1.0</td>\n",
              "      <td>0.0</td>\n",
              "      <td>0.50</td>\n",
              "      <td>0.0</td>\n",
              "      <td>0.0</td>\n",
              "      <td>0.0</td>\n",
              "      <td>0.0</td>\n",
              "      <td>0.0</td>\n",
              "      <td>normal.</td>\n",
              "    </tr>\n",
              "    <tr>\n",
              "      <th>0</th>\n",
              "      <td>tcp</td>\n",
              "      <td>http</td>\n",
              "      <td>SF</td>\n",
              "      <td>233</td>\n",
              "      <td>2032</td>\n",
              "      <td>0</td>\n",
              "      <td>0</td>\n",
              "      <td>0</td>\n",
              "      <td>0</td>\n",
              "      <td>0</td>\n",
              "      <td>1</td>\n",
              "      <td>0</td>\n",
              "      <td>0</td>\n",
              "      <td>0</td>\n",
              "      <td>0</td>\n",
              "      <td>0</td>\n",
              "      <td>0</td>\n",
              "      <td>0</td>\n",
              "      <td>0</td>\n",
              "      <td>0</td>\n",
              "      <td>0</td>\n",
              "      <td>2</td>\n",
              "      <td>2</td>\n",
              "      <td>0.0</td>\n",
              "      <td>0.0</td>\n",
              "      <td>0.0</td>\n",
              "      <td>0.0</td>\n",
              "      <td>1.0</td>\n",
              "      <td>0.0</td>\n",
              "      <td>0.0</td>\n",
              "      <td>3</td>\n",
              "      <td>3</td>\n",
              "      <td>1.0</td>\n",
              "      <td>0.0</td>\n",
              "      <td>0.33</td>\n",
              "      <td>0.0</td>\n",
              "      <td>0.0</td>\n",
              "      <td>0.0</td>\n",
              "      <td>0.0</td>\n",
              "      <td>0.0</td>\n",
              "      <td>normal.</td>\n",
              "    </tr>\n",
              "    <tr>\n",
              "      <th>0</th>\n",
              "      <td>tcp</td>\n",
              "      <td>http</td>\n",
              "      <td>SF</td>\n",
              "      <td>239</td>\n",
              "      <td>486</td>\n",
              "      <td>0</td>\n",
              "      <td>0</td>\n",
              "      <td>0</td>\n",
              "      <td>0</td>\n",
              "      <td>0</td>\n",
              "      <td>1</td>\n",
              "      <td>0</td>\n",
              "      <td>0</td>\n",
              "      <td>0</td>\n",
              "      <td>0</td>\n",
              "      <td>0</td>\n",
              "      <td>0</td>\n",
              "      <td>0</td>\n",
              "      <td>0</td>\n",
              "      <td>0</td>\n",
              "      <td>0</td>\n",
              "      <td>3</td>\n",
              "      <td>3</td>\n",
              "      <td>0.0</td>\n",
              "      <td>0.0</td>\n",
              "      <td>0.0</td>\n",
              "      <td>0.0</td>\n",
              "      <td>1.0</td>\n",
              "      <td>0.0</td>\n",
              "      <td>0.0</td>\n",
              "      <td>4</td>\n",
              "      <td>4</td>\n",
              "      <td>1.0</td>\n",
              "      <td>0.0</td>\n",
              "      <td>0.25</td>\n",
              "      <td>0.0</td>\n",
              "      <td>0.0</td>\n",
              "      <td>0.0</td>\n",
              "      <td>0.0</td>\n",
              "      <td>0.0</td>\n",
              "      <td>normal.</td>\n",
              "    </tr>\n",
              "  </tbody>\n",
              "</table>\n",
              "</div>"
            ],
            "text/plain": [
              "         protocol_type service  ... dst_host_srv_rerror_rate  xAttack\n",
              "duration                        ...                                  \n",
              "0                  tcp    http  ...                      0.0  normal.\n",
              "0                  tcp    http  ...                      0.0  normal.\n",
              "0                  tcp    http  ...                      0.0  normal.\n",
              "0                  tcp    http  ...                      0.0  normal.\n",
              "0                  tcp    http  ...                      0.0  normal.\n",
              "\n",
              "[5 rows x 41 columns]"
            ]
          },
          "metadata": {
            "tags": []
          },
          "execution_count": 3
        }
      ]
    },
    {
      "cell_type": "code",
      "metadata": {
        "id": "1kOQHweQ_QE-",
        "colab_type": "code",
        "colab": {}
      },
      "source": [
        "X_train, X_test, y_train, y_test = train_test_split(all.drop(['xAttack'], axis=1), all['xAttack'], test_size=0.66, random_state=42)"
      ],
      "execution_count": 4,
      "outputs": []
    },
    {
      "cell_type": "markdown",
      "metadata": {
        "id": "RVdcfGhNG9YD",
        "colab_type": "text"
      },
      "source": [
        "### Reduce train size for faster trainin, remove when in production"
      ]
    },
    {
      "cell_type": "code",
      "metadata": {
        "id": "imr81BQZY_zW",
        "colab_type": "code",
        "colab": {}
      },
      "source": [
        "# X_train=X_train.sample(frac =.50,random_state=1) # TODO. now this is uneeded as I used `train_test_split` above \n",
        "\n",
        "# X_train = train.drop('xAttack', axis=1)\n",
        "# Y_train = train.loc[:,['xAttack']]\n",
        "# X_test = test.drop('xAttack', axis=1)\n",
        "# Y_test = test.loc[:,['xAttack']]"
      ],
      "execution_count": 5,
      "outputs": []
    },
    {
      "cell_type": "markdown",
      "metadata": {
        "id": "Xbsr_Auy_QFN",
        "colab_type": "text"
      },
      "source": [
        "### The following few cells are taken from the 'sample code'"
      ]
    },
    {
      "cell_type": "code",
      "metadata": {
        "id": "nl9Yok3f_QFO",
        "colab_type": "code",
        "colab": {
          "base_uri": "https://localhost:8080/",
          "height": 285
        },
        "outputId": "dc72ed9a-b890-4c22-93d7-3942f1842aae"
      },
      "source": [
        "le = preprocessing.LabelEncoder()\n",
        "\n",
        "print(set(list(y_train)))\n",
        "print(Counter(all['xAttack']))\n",
        "\n",
        "y_train = le.fit_transform(y_train)\n",
        "y_test  = le.fit_transform(y_test)\n",
        "\n",
        "\n",
        "for col in ['protocol_type', 'service', 'flag']:\n",
        "  X_train[col] = le.fit_transform(X_train[col])\n",
        "  X_test[col] = le.fit_transform(X_test[col])\n",
        "\n",
        "X_train.head(5)"
      ],
      "execution_count": 6,
      "outputs": [
        {
          "output_type": "stream",
          "text": [
            "{'perl.', 'phf.', 'pod.', 'teardrop.', 'warezmaster.', 'loadmodule.', 'land.', 'buffer_overflow.', 'ipsweep.', 'ftp_write.', 'smurf.', 'multihop.', 'neptune.', 'nmap.', 'warezclient.', 'normal.', 'rootkit.', 'imap.', 'spy.', 'portsweep.', 'guess_passwd.', 'satan.', 'back.'}\n",
            "Counter({'smurf.': 2807886, 'neptune.': 1072017, 'normal.': 972781, 'satan.': 15892, 'ipsweep.': 12481, 'portsweep.': 10413, 'nmap.': 2316, 'back.': 2203, 'warezclient.': 1020, 'teardrop.': 979, 'pod.': 264, 'guess_passwd.': 53, 'buffer_overflow.': 30, 'land.': 21, 'warezmaster.': 20, 'imap.': 12, 'rootkit.': 10, 'loadmodule.': 9, 'ftp_write.': 8, 'multihop.': 7, 'phf.': 4, 'perl.': 3, 'spy.': 2})\n"
          ],
          "name": "stdout"
        },
        {
          "output_type": "execute_result",
          "data": {
            "text/html": [
              "<div>\n",
              "<style scoped>\n",
              "    .dataframe tbody tr th:only-of-type {\n",
              "        vertical-align: middle;\n",
              "    }\n",
              "\n",
              "    .dataframe tbody tr th {\n",
              "        vertical-align: top;\n",
              "    }\n",
              "\n",
              "    .dataframe thead th {\n",
              "        text-align: right;\n",
              "    }\n",
              "</style>\n",
              "<table border=\"1\" class=\"dataframe\">\n",
              "  <thead>\n",
              "    <tr style=\"text-align: right;\">\n",
              "      <th></th>\n",
              "      <th>protocol_type</th>\n",
              "      <th>service</th>\n",
              "      <th>flag</th>\n",
              "      <th>src_bytes</th>\n",
              "      <th>dst_bytes</th>\n",
              "      <th>land</th>\n",
              "      <th>wrong_fragment</th>\n",
              "      <th>urgent</th>\n",
              "      <th>hot</th>\n",
              "      <th>num_failed_logins</th>\n",
              "      <th>logged_in</th>\n",
              "      <th>num_compromised</th>\n",
              "      <th>root_shell</th>\n",
              "      <th>su_attempted</th>\n",
              "      <th>num_root</th>\n",
              "      <th>num_file_creations</th>\n",
              "      <th>num_shells</th>\n",
              "      <th>num_access_files</th>\n",
              "      <th>num_outbound_cmds</th>\n",
              "      <th>is_host_login</th>\n",
              "      <th>is_guest_login</th>\n",
              "      <th>count</th>\n",
              "      <th>srv_count</th>\n",
              "      <th>serror_rate</th>\n",
              "      <th>srv_serror_rate</th>\n",
              "      <th>rerror_rate</th>\n",
              "      <th>srv_rerror_rate</th>\n",
              "      <th>same_srv_rate</th>\n",
              "      <th>diff_srv_rate</th>\n",
              "      <th>srv_diff_host_rate</th>\n",
              "      <th>dst_host_count</th>\n",
              "      <th>dst_host_srv_count</th>\n",
              "      <th>dst_host_same_srv_rate</th>\n",
              "      <th>dst_host_diff_srv_rate</th>\n",
              "      <th>dst_host_same_src_port_rate</th>\n",
              "      <th>dst_host_srv_diff_host_rate</th>\n",
              "      <th>dst_host_serror_rate</th>\n",
              "      <th>dst_host_srv_serror_rate</th>\n",
              "      <th>dst_host_rerror_rate</th>\n",
              "      <th>dst_host_srv_rerror_rate</th>\n",
              "    </tr>\n",
              "    <tr>\n",
              "      <th>duration</th>\n",
              "      <th></th>\n",
              "      <th></th>\n",
              "      <th></th>\n",
              "      <th></th>\n",
              "      <th></th>\n",
              "      <th></th>\n",
              "      <th></th>\n",
              "      <th></th>\n",
              "      <th></th>\n",
              "      <th></th>\n",
              "      <th></th>\n",
              "      <th></th>\n",
              "      <th></th>\n",
              "      <th></th>\n",
              "      <th></th>\n",
              "      <th></th>\n",
              "      <th></th>\n",
              "      <th></th>\n",
              "      <th></th>\n",
              "      <th></th>\n",
              "      <th></th>\n",
              "      <th></th>\n",
              "      <th></th>\n",
              "      <th></th>\n",
              "      <th></th>\n",
              "      <th></th>\n",
              "      <th></th>\n",
              "      <th></th>\n",
              "      <th></th>\n",
              "      <th></th>\n",
              "      <th></th>\n",
              "      <th></th>\n",
              "      <th></th>\n",
              "      <th></th>\n",
              "      <th></th>\n",
              "      <th></th>\n",
              "      <th></th>\n",
              "      <th></th>\n",
              "      <th></th>\n",
              "      <th></th>\n",
              "    </tr>\n",
              "  </thead>\n",
              "  <tbody>\n",
              "    <tr>\n",
              "      <th>2630</th>\n",
              "      <td>2</td>\n",
              "      <td>41</td>\n",
              "      <td>9</td>\n",
              "      <td>147</td>\n",
              "      <td>105</td>\n",
              "      <td>0</td>\n",
              "      <td>0</td>\n",
              "      <td>0</td>\n",
              "      <td>0</td>\n",
              "      <td>0</td>\n",
              "      <td>0</td>\n",
              "      <td>0</td>\n",
              "      <td>0</td>\n",
              "      <td>0</td>\n",
              "      <td>0</td>\n",
              "      <td>0</td>\n",
              "      <td>0</td>\n",
              "      <td>0</td>\n",
              "      <td>0</td>\n",
              "      <td>0</td>\n",
              "      <td>0</td>\n",
              "      <td>1</td>\n",
              "      <td>1</td>\n",
              "      <td>0.0</td>\n",
              "      <td>0.0</td>\n",
              "      <td>0.0</td>\n",
              "      <td>0.0</td>\n",
              "      <td>1.00</td>\n",
              "      <td>0.00</td>\n",
              "      <td>0.0</td>\n",
              "      <td>255</td>\n",
              "      <td>1</td>\n",
              "      <td>0.00</td>\n",
              "      <td>0.85</td>\n",
              "      <td>0.99</td>\n",
              "      <td>0.0</td>\n",
              "      <td>0.0</td>\n",
              "      <td>0.0</td>\n",
              "      <td>0.0</td>\n",
              "      <td>0.0</td>\n",
              "    </tr>\n",
              "    <tr>\n",
              "      <th>0</th>\n",
              "      <td>1</td>\n",
              "      <td>46</td>\n",
              "      <td>1</td>\n",
              "      <td>0</td>\n",
              "      <td>0</td>\n",
              "      <td>0</td>\n",
              "      <td>0</td>\n",
              "      <td>0</td>\n",
              "      <td>0</td>\n",
              "      <td>0</td>\n",
              "      <td>0</td>\n",
              "      <td>0</td>\n",
              "      <td>0</td>\n",
              "      <td>0</td>\n",
              "      <td>0</td>\n",
              "      <td>0</td>\n",
              "      <td>0</td>\n",
              "      <td>0</td>\n",
              "      <td>0</td>\n",
              "      <td>0</td>\n",
              "      <td>0</td>\n",
              "      <td>136</td>\n",
              "      <td>17</td>\n",
              "      <td>0.0</td>\n",
              "      <td>0.0</td>\n",
              "      <td>1.0</td>\n",
              "      <td>1.0</td>\n",
              "      <td>0.12</td>\n",
              "      <td>0.06</td>\n",
              "      <td>0.0</td>\n",
              "      <td>255</td>\n",
              "      <td>17</td>\n",
              "      <td>0.07</td>\n",
              "      <td>0.07</td>\n",
              "      <td>0.00</td>\n",
              "      <td>0.0</td>\n",
              "      <td>0.0</td>\n",
              "      <td>0.0</td>\n",
              "      <td>1.0</td>\n",
              "      <td>1.0</td>\n",
              "    </tr>\n",
              "    <tr>\n",
              "      <th>0</th>\n",
              "      <td>0</td>\n",
              "      <td>14</td>\n",
              "      <td>9</td>\n",
              "      <td>1032</td>\n",
              "      <td>0</td>\n",
              "      <td>0</td>\n",
              "      <td>0</td>\n",
              "      <td>0</td>\n",
              "      <td>0</td>\n",
              "      <td>0</td>\n",
              "      <td>0</td>\n",
              "      <td>0</td>\n",
              "      <td>0</td>\n",
              "      <td>0</td>\n",
              "      <td>0</td>\n",
              "      <td>0</td>\n",
              "      <td>0</td>\n",
              "      <td>0</td>\n",
              "      <td>0</td>\n",
              "      <td>0</td>\n",
              "      <td>0</td>\n",
              "      <td>511</td>\n",
              "      <td>511</td>\n",
              "      <td>0.0</td>\n",
              "      <td>0.0</td>\n",
              "      <td>0.0</td>\n",
              "      <td>0.0</td>\n",
              "      <td>1.00</td>\n",
              "      <td>0.00</td>\n",
              "      <td>0.0</td>\n",
              "      <td>255</td>\n",
              "      <td>255</td>\n",
              "      <td>1.00</td>\n",
              "      <td>0.00</td>\n",
              "      <td>1.00</td>\n",
              "      <td>0.0</td>\n",
              "      <td>0.0</td>\n",
              "      <td>0.0</td>\n",
              "      <td>0.0</td>\n",
              "      <td>0.0</td>\n",
              "    </tr>\n",
              "    <tr>\n",
              "      <th>0</th>\n",
              "      <td>0</td>\n",
              "      <td>14</td>\n",
              "      <td>9</td>\n",
              "      <td>1032</td>\n",
              "      <td>0</td>\n",
              "      <td>0</td>\n",
              "      <td>0</td>\n",
              "      <td>0</td>\n",
              "      <td>0</td>\n",
              "      <td>0</td>\n",
              "      <td>0</td>\n",
              "      <td>0</td>\n",
              "      <td>0</td>\n",
              "      <td>0</td>\n",
              "      <td>0</td>\n",
              "      <td>0</td>\n",
              "      <td>0</td>\n",
              "      <td>0</td>\n",
              "      <td>0</td>\n",
              "      <td>0</td>\n",
              "      <td>0</td>\n",
              "      <td>511</td>\n",
              "      <td>511</td>\n",
              "      <td>0.0</td>\n",
              "      <td>0.0</td>\n",
              "      <td>0.0</td>\n",
              "      <td>0.0</td>\n",
              "      <td>1.00</td>\n",
              "      <td>0.00</td>\n",
              "      <td>0.0</td>\n",
              "      <td>255</td>\n",
              "      <td>255</td>\n",
              "      <td>1.00</td>\n",
              "      <td>0.00</td>\n",
              "      <td>1.00</td>\n",
              "      <td>0.0</td>\n",
              "      <td>0.0</td>\n",
              "      <td>0.0</td>\n",
              "      <td>0.0</td>\n",
              "      <td>0.0</td>\n",
              "    </tr>\n",
              "    <tr>\n",
              "      <th>0</th>\n",
              "      <td>0</td>\n",
              "      <td>14</td>\n",
              "      <td>9</td>\n",
              "      <td>520</td>\n",
              "      <td>0</td>\n",
              "      <td>0</td>\n",
              "      <td>0</td>\n",
              "      <td>0</td>\n",
              "      <td>0</td>\n",
              "      <td>0</td>\n",
              "      <td>0</td>\n",
              "      <td>0</td>\n",
              "      <td>0</td>\n",
              "      <td>0</td>\n",
              "      <td>0</td>\n",
              "      <td>0</td>\n",
              "      <td>0</td>\n",
              "      <td>0</td>\n",
              "      <td>0</td>\n",
              "      <td>0</td>\n",
              "      <td>0</td>\n",
              "      <td>511</td>\n",
              "      <td>511</td>\n",
              "      <td>0.0</td>\n",
              "      <td>0.0</td>\n",
              "      <td>0.0</td>\n",
              "      <td>0.0</td>\n",
              "      <td>1.00</td>\n",
              "      <td>0.00</td>\n",
              "      <td>0.0</td>\n",
              "      <td>255</td>\n",
              "      <td>255</td>\n",
              "      <td>1.00</td>\n",
              "      <td>0.00</td>\n",
              "      <td>1.00</td>\n",
              "      <td>0.0</td>\n",
              "      <td>0.0</td>\n",
              "      <td>0.0</td>\n",
              "      <td>0.0</td>\n",
              "      <td>0.0</td>\n",
              "    </tr>\n",
              "  </tbody>\n",
              "</table>\n",
              "</div>"
            ],
            "text/plain": [
              "          protocol_type  ...  dst_host_srv_rerror_rate\n",
              "duration                 ...                          \n",
              "2630                  2  ...                       0.0\n",
              "0                     1  ...                       1.0\n",
              "0                     0  ...                       0.0\n",
              "0                     0  ...                       0.0\n",
              "0                     0  ...                       0.0\n",
              "\n",
              "[5 rows x 40 columns]"
            ]
          },
          "metadata": {
            "tags": []
          },
          "execution_count": 6
        }
      ]
    },
    {
      "cell_type": "markdown",
      "metadata": {
        "id": "B1yzN9vzBjEr",
        "colab_type": "text"
      },
      "source": [
        "## Drop features with lowest corr"
      ]
    },
    {
      "cell_type": "code",
      "metadata": {
        "id": "Y5PCmnfo0khb",
        "colab_type": "code",
        "colab": {}
      },
      "source": [
        "# print('\\n')\n",
        "# tmp = all.corr().abs()#.sort_values('xAttack')\n",
        "# garbage = all['xAttack'].nsmallest(5)\n",
        "# garbage\n",
        "# garbage = list(garbage.index) + ['num_outbound_cmds','is_host_login']"
      ],
      "execution_count": 7,
      "outputs": []
    },
    {
      "cell_type": "markdown",
      "metadata": {
        "id": "60WOhD9X_QFf",
        "colab_type": "text"
      },
      "source": [
        "## Drop features with lowest STD"
      ]
    },
    {
      "cell_type": "code",
      "metadata": {
        "id": "NsFRJ0zE_QFo",
        "colab_type": "code",
        "colab": {
          "base_uri": "https://localhost:8080/",
          "height": 108
        },
        "outputId": "ecfab105-49d4-4d72-884a-42b2b43670b4"
      },
      "source": [
        "# df.ix[2,:]==0 # see where STD== 0, which means all values are the same... which is useless \n",
        "\n",
        "# con_list = [\n",
        "#     'protocol_type', 'service', 'flag', 'land', 'logged_in', 'su_attempted',\n",
        "#     'is_host_login', 'is_guest_login'\n",
        "# ]\n",
        "\n",
        "# df = X_train.drop(con_list, axis=1)\n",
        "\n",
        "# #drop n smallest std features\n",
        "df = X_train.std(axis=0).to_frame()\n",
        "tmp = df.nsmallest(5, columns=0)\n",
        "tmp = tmp.index.to_list() # list(tmp.transpose().columns)\n",
        "tmp\n",
        "\n",
        "# print(set(tmp + garbage))\n",
        "# print(to_drop, len(to_drop))"
      ],
      "execution_count": 8,
      "outputs": [
        {
          "output_type": "execute_result",
          "data": {
            "text/plain": [
              "['num_outbound_cmds',\n",
              " 'is_host_login',\n",
              " 'land',\n",
              " 'num_failed_logins',\n",
              " 'su_attempted']"
            ]
          },
          "metadata": {
            "tags": []
          },
          "execution_count": 8
        }
      ]
    },
    {
      "cell_type": "code",
      "metadata": {
        "id": "G4e7NTqd_QFr",
        "colab_type": "code",
        "colab": {}
      },
      "source": [
        "from sklearn import linear_model\n",
        "\n",
        "from sklearn.ensemble import VotingClassifier\n",
        "\n",
        "from sklearn.ensemble import AdaBoostClassifier\n",
        "from sklearn.ensemble import RandomForestClassifier\n",
        "from sklearn.ensemble import BaggingClassifier\n",
        "from sklearn.ensemble import ExtraTreesClassifier\n",
        "from sklearn.ensemble import GradientBoostingClassifier\n",
        "from sklearn.ensemble import IsolationForest\n",
        "\n",
        "from sklearn.svm import SVC\n",
        "from sklearn.tree import DecisionTreeClassifier"
      ],
      "execution_count": 9,
      "outputs": []
    },
    {
      "cell_type": "code",
      "metadata": {
        "id": "3gTEKlbI_QFu",
        "colab_type": "code",
        "colab": {
          "base_uri": "https://localhost:8080/",
          "height": 54
        },
        "outputId": "665184f4-a0de-42ba-fca6-c90e0c12e714"
      },
      "source": [
        "LR = linear_model.LinearRegression()\n",
        "LR.fit(X_train, y_train)\n",
        "lr_score = LR.score(X_test, y_test)\n",
        "print('Linear regression processing ,,,')\n",
        "print('Linear regression Score: %.2f %%' % lr_score)"
      ],
      "execution_count": 10,
      "outputs": [
        {
          "output_type": "execute_result",
          "data": {
            "text/plain": [
              "LinearRegression(copy_X=True, fit_intercept=True, n_jobs=None, normalize=False)"
            ]
          },
          "metadata": {
            "tags": []
          },
          "execution_count": 10
        },
        {
          "output_type": "stream",
          "text": [
            "Linear regression processing ,,,\n",
            "Linear regression Score: 0.98 %\n"
          ],
          "name": "stdout"
        }
      ]
    },
    {
      "cell_type": "code",
      "metadata": {
        "id": "wj9l0ezu_QFy",
        "colab_type": "code",
        "colab": {}
      },
      "source": [
        "## to remove low Corr & low STD \n",
        "\n",
        "# try:  #TODO\n",
        "#     X_train = X_train.drop(tmp,axis=1)\n",
        "#     X_test = X_test.drop(tmp,axis=1)\n",
        "# except:\n",
        "#     None\n",
        "    \n",
        "# X_train.shape\n",
        "# X_test.shape"
      ],
      "execution_count": 11,
      "outputs": []
    },
    {
      "cell_type": "code",
      "metadata": {
        "id": "yK9WTOsh_QF2",
        "colab_type": "code",
        "colab": {}
      },
      "source": [
        ""
      ],
      "execution_count": 11,
      "outputs": []
    },
    {
      "cell_type": "code",
      "metadata": {
        "id": "7y-NiCAv_QF9",
        "colab_type": "code",
        "colab": {}
      },
      "source": [
        "AB = AdaBoostClassifier(base_estimator=DecisionTreeClassifier(max_depth = 3), n_estimators=50)\n",
        "RF = RandomForestClassifier(n_estimators=100, criterion='entropy')\n",
        "ET = ExtraTreesClassifier(n_estimators=100, criterion='gini', bootstrap=False)\n",
        "GB = GradientBoostingClassifier(loss='deviance', learning_rate=0.1, n_estimators=200, max_features='auto')"
      ],
      "execution_count": 12,
      "outputs": []
    },
    {
      "cell_type": "code",
      "metadata": {
        "id": "OY4ePfZq_QGD",
        "colab_type": "code",
        "colab": {
          "base_uri": "https://localhost:8080/",
          "height": 54
        },
        "outputId": "fb668d52-d69a-450e-c823-a65e55f96b43"
      },
      "source": [
        "_ = AB.fit(X_train[:1000], y_train[:1000])\n",
        "AB_feature = AB.feature_importances_\n",
        "ab_score = AB.score(X_test, y_test)\n",
        "\n",
        "print('AdaBoostClassifier processing...')\n",
        "print('AdaBoostClassifier Score: %.3f %%' % ab_score)"
      ],
      "execution_count": 13,
      "outputs": [
        {
          "output_type": "stream",
          "text": [
            "AdaBoostClassifier processing...\n",
            "AdaBoostClassifier Score: 0.993 %\n"
          ],
          "name": "stdout"
        }
      ]
    },
    {
      "cell_type": "code",
      "metadata": {
        "id": "mGENFPUS_QGN",
        "colab_type": "code",
        "colab": {
          "base_uri": "https://localhost:8080/",
          "height": 54
        },
        "outputId": "ebbdeed8-ad6c-4b70-add6-ef90c2876008"
      },
      "source": [
        "_ = RF.fit(X_train, y_train)\n",
        "RF_feature = RF.feature_importances_\n",
        "rf_score = RF.score(X_test, y_test)\n",
        "\n",
        "print('RandomForestClassifier processing...')\n",
        "print('RandomForestClassifier Score: %.3f %%' % rf_score)"
      ],
      "execution_count": 14,
      "outputs": [
        {
          "output_type": "stream",
          "text": [
            "RandomForestClassifier processing...\n",
            "RandomForestClassifier Score: 1.000 %\n"
          ],
          "name": "stdout"
        }
      ]
    },
    {
      "cell_type": "code",
      "metadata": {
        "id": "NDZHaC4K_QGV",
        "colab_type": "code",
        "colab": {
          "base_uri": "https://localhost:8080/",
          "height": 54
        },
        "outputId": "67f42732-d8c1-404d-cb1c-97bdb7ee4e1c"
      },
      "source": [
        "_ = ET.fit(X_train, y_train)\n",
        "ET_feature = ET.feature_importances_\n",
        "et_score = ET.score(X_test, y_test)\n",
        "\n",
        "print('ExtraTreesClassifier processing...')\n",
        "print('ExtraTreeClassifier: %.3f %%' % et_score)"
      ],
      "execution_count": 15,
      "outputs": [
        {
          "output_type": "stream",
          "text": [
            "ExtraTreesClassifier processing...\n",
            "ExtraTreeClassifier: 1.000 %\n"
          ],
          "name": "stdout"
        }
      ]
    },
    {
      "cell_type": "code",
      "metadata": {
        "id": "jJ6oCaY3_QGY",
        "colab_type": "code",
        "colab": {
          "base_uri": "https://localhost:8080/",
          "height": 54
        },
        "outputId": "6e512542-6af9-4d3d-b76e-f369269cf5ae"
      },
      "source": [
        "_ = GB.fit(X_train[:2000], y_train[:2000])\n",
        "GB_feature = GB.feature_importances_\n",
        "gb_score = GB.score(X_test, y_test)\n",
        "\n",
        "print('GradientBoostingClassifier processing...')\n",
        "print('GradientBoostingClassifier Score: %.3f %%' % gb_score)"
      ],
      "execution_count": 16,
      "outputs": [
        {
          "output_type": "stream",
          "text": [
            "GradientBoostingClassifier processing...\n",
            "GradientBoostingClassifier Score: 0.996 %\n"
          ],
          "name": "stdout"
        }
      ]
    },
    {
      "cell_type": "code",
      "metadata": {
        "id": "G6xhq-V7_QGb",
        "colab_type": "code",
        "colab": {
          "base_uri": "https://localhost:8080/",
          "height": 348
        },
        "outputId": "1973250c-59fb-4eb2-e2f3-4772ebd31674"
      },
      "source": [
        "feature_df = pd.DataFrame({'features': X_train.columns.values, # names\n",
        "                           'AdaBoost' : AB_feature,\n",
        "                           'RandomForest' : RF_feature,\n",
        "                           'ExtraTree' : ET_feature,\n",
        "                           'GradientBoost' : GB_feature\n",
        "                          })\n",
        "#feature_df.features\n",
        "feature_df.head(10)"
      ],
      "execution_count": 18,
      "outputs": [
        {
          "output_type": "execute_result",
          "data": {
            "text/html": [
              "<div>\n",
              "<style scoped>\n",
              "    .dataframe tbody tr th:only-of-type {\n",
              "        vertical-align: middle;\n",
              "    }\n",
              "\n",
              "    .dataframe tbody tr th {\n",
              "        vertical-align: top;\n",
              "    }\n",
              "\n",
              "    .dataframe thead th {\n",
              "        text-align: right;\n",
              "    }\n",
              "</style>\n",
              "<table border=\"1\" class=\"dataframe\">\n",
              "  <thead>\n",
              "    <tr style=\"text-align: right;\">\n",
              "      <th></th>\n",
              "      <th>features</th>\n",
              "      <th>AdaBoost</th>\n",
              "      <th>RandomForest</th>\n",
              "      <th>ExtraTree</th>\n",
              "      <th>GradientBoost</th>\n",
              "    </tr>\n",
              "  </thead>\n",
              "  <tbody>\n",
              "    <tr>\n",
              "      <th>0</th>\n",
              "      <td>protocol_type</td>\n",
              "      <td>0.000000</td>\n",
              "      <td>0.146055</td>\n",
              "      <td>0.133862</td>\n",
              "      <td>0.000388</td>\n",
              "    </tr>\n",
              "    <tr>\n",
              "      <th>1</th>\n",
              "      <td>service</td>\n",
              "      <td>0.000000</td>\n",
              "      <td>0.068279</td>\n",
              "      <td>0.025077</td>\n",
              "      <td>0.000271</td>\n",
              "    </tr>\n",
              "    <tr>\n",
              "      <th>2</th>\n",
              "      <td>flag</td>\n",
              "      <td>0.000000</td>\n",
              "      <td>0.050798</td>\n",
              "      <td>0.033585</td>\n",
              "      <td>0.000005</td>\n",
              "    </tr>\n",
              "    <tr>\n",
              "      <th>3</th>\n",
              "      <td>src_bytes</td>\n",
              "      <td>0.166745</td>\n",
              "      <td>0.070915</td>\n",
              "      <td>0.001851</td>\n",
              "      <td>0.000211</td>\n",
              "    </tr>\n",
              "    <tr>\n",
              "      <th>4</th>\n",
              "      <td>dst_bytes</td>\n",
              "      <td>0.000000</td>\n",
              "      <td>0.027912</td>\n",
              "      <td>0.000201</td>\n",
              "      <td>0.001802</td>\n",
              "    </tr>\n",
              "    <tr>\n",
              "      <th>5</th>\n",
              "      <td>land</td>\n",
              "      <td>0.000000</td>\n",
              "      <td>0.000002</td>\n",
              "      <td>0.000001</td>\n",
              "      <td>0.000000</td>\n",
              "    </tr>\n",
              "    <tr>\n",
              "      <th>6</th>\n",
              "      <td>wrong_fragment</td>\n",
              "      <td>0.000000</td>\n",
              "      <td>0.000530</td>\n",
              "      <td>0.000560</td>\n",
              "      <td>0.000000</td>\n",
              "    </tr>\n",
              "    <tr>\n",
              "      <th>7</th>\n",
              "      <td>urgent</td>\n",
              "      <td>0.000000</td>\n",
              "      <td>0.000001</td>\n",
              "      <td>0.000002</td>\n",
              "      <td>0.000000</td>\n",
              "    </tr>\n",
              "    <tr>\n",
              "      <th>8</th>\n",
              "      <td>hot</td>\n",
              "      <td>0.166745</td>\n",
              "      <td>0.000803</td>\n",
              "      <td>0.000435</td>\n",
              "      <td>0.000493</td>\n",
              "    </tr>\n",
              "    <tr>\n",
              "      <th>9</th>\n",
              "      <td>num_failed_logins</td>\n",
              "      <td>0.000000</td>\n",
              "      <td>0.000011</td>\n",
              "      <td>0.000015</td>\n",
              "      <td>0.000000</td>\n",
              "    </tr>\n",
              "  </tbody>\n",
              "</table>\n",
              "</div>"
            ],
            "text/plain": [
              "            features  AdaBoost  RandomForest  ExtraTree  GradientBoost\n",
              "0      protocol_type  0.000000      0.146055   0.133862       0.000388\n",
              "1            service  0.000000      0.068279   0.025077       0.000271\n",
              "2               flag  0.000000      0.050798   0.033585       0.000005\n",
              "3          src_bytes  0.166745      0.070915   0.001851       0.000211\n",
              "4          dst_bytes  0.000000      0.027912   0.000201       0.001802\n",
              "5               land  0.000000      0.000002   0.000001       0.000000\n",
              "6     wrong_fragment  0.000000      0.000530   0.000560       0.000000\n",
              "7             urgent  0.000000      0.000001   0.000002       0.000000\n",
              "8                hot  0.166745      0.000803   0.000435       0.000493\n",
              "9  num_failed_logins  0.000000      0.000011   0.000015       0.000000"
            ]
          },
          "metadata": {
            "tags": []
          },
          "execution_count": 18
        }
      ]
    },
    {
      "cell_type": "code",
      "metadata": {
        "id": "SOPwTYny_QGe",
        "colab_type": "code",
        "colab": {
          "base_uri": "https://localhost:8080/",
          "height": 90
        },
        "outputId": "0f9c56cc-aa56-4b30-a70a-2d32acc91469"
      },
      "source": [
        "n = 5\n",
        "a_f = feature_df.nlargest(n, 'AdaBoost')\n",
        "e_f = feature_df.nlargest(n, 'ExtraTree')\n",
        "g_f = feature_df.nlargest(n, 'GradientBoost')\n",
        "r_f = feature_df.nlargest(n, 'RandomForest')\n",
        "\n",
        "result = pd.concat([a_f, e_f, g_f, r_f])\n",
        "result.drop_duplicates(inplace=True)\n",
        "\n",
        "result['features'].values\n",
        "\n",
        "top_features = ['dst_host_srv_diff_host_rate', 'srv_count', 'src_bytes', 'hot',\n",
        "       'dst_host_diff_srv_rate', 'same_srv_rate', 'dst_host_serror_rate',\n",
        "       'protocol_type', 'service', 'flag', 'dst_host_same_src_port_rate',\n",
        "       'count', 'dst_host_srv_count', 'logged_in',\n",
        "       'dst_host_srv_serror_rate', 'dst_host_same_srv_rate',\n",
        "       'serror_rate', 'diff_srv_rate', 'srv_serror_rate']\n",
        "\n",
        "# garbage = np.argsort(result.transpose().mean())\n",
        "# garbage = garbage.sort_index()[:5] # FML... :'(\n",
        "# garbage.index\n",
        "\n",
        "# result = result.drop(garbage.index)\n",
        "# result.shape\n",
        "\n",
        "# arr = X_train.columns.to_numpy()\n",
        "# result = result.set_index(np.take(arr,result.index))"
      ],
      "execution_count": 19,
      "outputs": [
        {
          "output_type": "execute_result",
          "data": {
            "text/plain": [
              "array(['dst_host_srv_diff_host_rate', 'srv_count', 'src_bytes', 'hot',\n",
              "       'dst_host_diff_srv_rate', 'protocol_type', 'count',\n",
              "       'same_srv_rate', 'dst_host_same_src_port_rate', 'serror_rate'],\n",
              "      dtype=object)"
            ]
          },
          "metadata": {
            "tags": []
          },
          "execution_count": 19
        }
      ]
    },
    {
      "cell_type": "markdown",
      "metadata": {
        "id": "MDdDSU8RO3a4",
        "colab_type": "text"
      },
      "source": [
        "### Remove `selected_features` from our Data"
      ]
    },
    {
      "cell_type": "code",
      "metadata": {
        "id": "6W8vwtE0_QGh",
        "colab_type": "code",
        "colab": {
          "base_uri": "https://localhost:8080/",
          "height": 72
        },
        "outputId": "fb2a18c0-d8a5-4d3c-e7ba-df3d46824d54"
      },
      "source": [
        "# X_train_SF = X_train[result.index]\n",
        "# X_test_SF = X_test[result.index]\n",
        "\n",
        "\n",
        "print(X_train.shape)\n",
        "\n",
        "\n",
        "selected_features = result['features'].values.tolist()\n",
        "X_train_SF = X_train[selected_features]\n",
        "X_test_SF = X_test[selected_features]\n",
        "\n",
        "\n",
        "\n",
        "# X_train_SF = X_train_SF[:20000]\n",
        "# y_train    = y_train[:20000]\n",
        "\n",
        "\n",
        "print(X_train_SF.shape)\n",
        "print(y_train.size)\n",
        "\n",
        "numb_of_train_points = 410000"
      ],
      "execution_count": 20,
      "outputs": [
        {
          "output_type": "stream",
          "text": [
            "(1665466, 40)\n",
            "(1665466, 10)\n",
            "1665466\n"
          ],
          "name": "stdout"
        }
      ]
    },
    {
      "cell_type": "code",
      "metadata": {
        "id": "DPbIkY3GNXp6",
        "colab_type": "code",
        "colab": {
          "base_uri": "https://localhost:8080/",
          "height": 108
        },
        "outputId": "9795956c-4c47-426f-a537-2b274b88a1be"
      },
      "source": [
        "DTC = DecisionTreeClassifier()\n",
        "RFC = RandomForestClassifier(n_estimators=150, random_state=42, n_jobs=-1)\n",
        "ETC = ExtraTreesClassifier(n_estimators=150, random_state=42, n_jobs=-1)\n",
        "XGB = xgboost.XGBClassifier(n_estimators=100, n_jobs=-1)\n",
        "GBM = lightgbm.LGBMClassifier(objective='multiclass', n_estimators= 400)\n",
        "\n",
        "list_of_CLFs_names = []\n",
        "list_of_CLFs = [DTC, RFC, ETC, XGB, GBM]\n",
        "ranking = []\n",
        "\n",
        "for clf in list_of_CLFs:\n",
        "    _ = clf.fit(X_train[:numb_of_train_points],y_train[:numb_of_train_points])\n",
        "    pred = clf.score(X_test,y_test)\n",
        "    name = str(type(clf)).split(\".\")[-1][:-2]\n",
        "    print(\"Acc: %0.5f for the %s\" % (pred, name))\n",
        "\n",
        "    ranking.append(pred)\n",
        "    list_of_CLFs_names.append(name)"
      ],
      "execution_count": 21,
      "outputs": [
        {
          "output_type": "stream",
          "text": [
            "Acc: 0.99789 for the DecisionTreeClassifier\n",
            "Acc: 0.99986 for the RandomForestClassifier\n",
            "Acc: 0.99972 for the ExtraTreesClassifier\n",
            "Acc: 0.99985 for the XGBClassifier\n",
            "Acc: 0.98347 for the LGBMClassifier\n"
          ],
          "name": "stdout"
        }
      ]
    },
    {
      "cell_type": "code",
      "metadata": {
        "id": "nYXY1ijlMMJz",
        "colab_type": "code",
        "colab": {
          "base_uri": "https://localhost:8080/",
          "height": 108
        },
        "outputId": "9dfb22af-c8a1-4c39-a971-1c008f33c507"
      },
      "source": [
        "DTC = DecisionTreeClassifier()\n",
        "RFC = RandomForestClassifier(n_estimators=150, random_state=42, n_jobs=-1)\n",
        "ETC = ExtraTreesClassifier(n_estimators=200, random_state=42, n_jobs=-1)\n",
        "XGB = xgboost.XGBClassifier(n_estimators=100, n_jobs=-1)\n",
        "GBM = lightgbm.LGBMClassifier(objective='multiclass', n_estimators= 400)\n",
        "\n",
        "list_of_CLFs_names = []\n",
        "list_of_CLFs = [DTC, RFC, ETC, XGB, GBM]\n",
        "ranking = []\n",
        "\n",
        "for clf in list_of_CLFs:\n",
        "    _ = clf.fit(X_train_SF[:numb_of_train_points],y_train[:numb_of_train_points])\n",
        "    pred = clf.score(X_test_SF,y_test)\n",
        "    name = str(type(clf)).split(\".\")[-1][:-2]\n",
        "    print(\"Acc: %0.5f for the %s\" % (pred, name))\n",
        "\n",
        "    ranking.append(pred)\n",
        "    list_of_CLFs_names.append(name)"
      ],
      "execution_count": 22,
      "outputs": [
        {
          "output_type": "stream",
          "text": [
            "Acc: 0.99973 for the DecisionTreeClassifier\n",
            "Acc: 0.99981 for the RandomForestClassifier\n",
            "Acc: 0.99973 for the ExtraTreesClassifier\n",
            "Acc: 0.99972 for the XGBClassifier\n",
            "Acc: 0.98315 for the LGBMClassifier\n"
          ],
          "name": "stdout"
        }
      ]
    },
    {
      "cell_type": "code",
      "metadata": {
        "id": "eWTxb0IwPNbH",
        "colab_type": "code",
        "colab": {
          "base_uri": "https://localhost:8080/",
          "height": 308
        },
        "outputId": "b8927acb-91d2-4fec-a1e6-29f1ad9845dd"
      },
      "source": [
        "from sklearn.decomposition import * \n",
        "wanted_explained_variance_ratio = 0.99\n",
        "steps_down = 4\n",
        "wanted_n_components = 5\n",
        "first_time = True\n",
        "\n",
        "for i in range(X_train.shape[1]-1, 1, -steps_down):\n",
        "  total_var_ratio = round(np.sum(PCA(n_components=i).fit(X_train).explained_variance_ratio_), 5)\n",
        "  print('i =', i, 'with a variance ratio of', total_var_ratio)\n",
        "  if total_var_ratio < wanted_explained_variance_ratio and first_time:\n",
        "    wanted_n_components = i + steps_down\n",
        "    first_time = False\n",
        "\n",
        "print(\"We should set n_components to: \", wanted_n_components, \" is that our default choice?\",  first_time)\n",
        "\n",
        "pca = PCA(n_components=wanted_n_components) # \n",
        "_ = pca.fit(X_train)\n",
        "X_train_PCA = pca.transform(X_train)\n",
        "X_test_PCA = pca.transform(X_test)\n",
        "\n",
        "##=================================================================\n",
        "DTC = DecisionTreeClassifier()\n",
        "RFC = RandomForestClassifier(n_estimators=150, random_state=42, n_jobs=-1)\n",
        "ETC = ExtraTreesClassifier(n_estimators=200, random_state=42, n_jobs=-1)\n",
        "XGB = xgboost.XGBClassifier(n_estimators=100, n_jobs=-1)\n",
        "GBM = lightgbm.LGBMClassifier(objective='multiclass', n_estimators= 400)\n",
        "\n",
        "list_of_CLFs_names = []\n",
        "list_of_CLFs = [DTC, RFC, ETC, XGB, GBM]\n",
        "ranking = []\n",
        "\n",
        "for clf in list_of_CLFs:\n",
        "    _ = clf.fit(X_train_PCA[:numb_of_train_points], y_train[:numb_of_train_points])\n",
        "    pred = clf.score(X_test_PCA, y_test)\n",
        "    name = str(type(clf)).split(\".\")[-1][:-2]\n",
        "    print(\"Acc: %0.5f for the %s\" % (pred, name))\n",
        "\n",
        "    ranking.append(pred)\n",
        "    list_of_CLFs_names.append(name)\n"
      ],
      "execution_count": 23,
      "outputs": [
        {
          "output_type": "stream",
          "text": [
            "i = 39 with a variance ratio of 1.0\n",
            "i = 35 with a variance ratio of 1.0\n",
            "i = 31 with a variance ratio of 1.0\n",
            "i = 27 with a variance ratio of 1.0\n",
            "i = 23 with a variance ratio of 1.0\n",
            "i = 19 with a variance ratio of 1.0\n",
            "i = 15 with a variance ratio of 1.0\n",
            "i = 11 with a variance ratio of 1.0\n",
            "i = 7 with a variance ratio of 1.0\n",
            "i = 3 with a variance ratio of 1.0\n",
            "We should set n_components to:  5  is that our default choice? False\n",
            "Acc: 0.99712 for the DecisionTreeClassifier\n",
            "Acc: 0.99882 for the RandomForestClassifier\n",
            "Acc: 0.99808 for the ExtraTreesClassifier\n",
            "Acc: 0.99879 for the XGBClassifier\n",
            "Acc: 0.96200 for the LGBMClassifier\n"
          ],
          "name": "stdout"
        }
      ]
    },
    {
      "cell_type": "markdown",
      "metadata": {
        "id": "cH2taY3SX6UB",
        "colab_type": "text"
      },
      "source": [
        "## lets multithread this"
      ]
    },
    {
      "cell_type": "markdown",
      "metadata": {
        "id": "tsv_1ahu_QGz",
        "colab_type": "text"
      },
      "source": [
        "* https://stackoverflow.com/questions/42920148/using-sklearn-voting-ensemble-with-partial-fit\n",
        "\n",
        "* https://gist.github.com/tomquisel/a421235422fdf6b51ec2ccc5e3dee1b4\n",
        "\n"
      ]
    },
    {
      "cell_type": "code",
      "metadata": {
        "id": "cfvwOpUF_QG1",
        "colab_type": "code",
        "colab": {}
      },
      "source": [
        "# import multiprocessing\n",
        "\n",
        "# ET = ExtraTreesClassifier(n_estimators=10, criterion='gini', max_features='auto', bootstrap=False) # .76 \n",
        "# RF = RandomForestClassifier(n_estimators=25, random_state=1)# .75\n",
        "# GB = GradientBoostingClassifier() # .74\n",
        "# ET = ExtraTreesClassifier(n_estimators=10, criterion='gini', max_features='auto', bootstrap=False) # .77 # without this lil fucker, Acc: 0.75 [Ensemble]\n",
        "# clfList = [ET,RF,GB,ET]\n",
        "\n",
        "# def spawn(clf):\n",
        "#   clf.fit(x,y)\n",
        "#   print(\"Done another one!\")\n",
        "\n",
        "# import time\n",
        "# start = time.time()\n",
        "\n",
        "# if __name__ == '__main__':\n",
        "  \n",
        "#   for i in clfList:\n",
        "#     print(i)\n",
        "#     #spawn(i) # 16 secounds \n",
        "\n",
        "#     # # 16 secounds\n",
        "#     # p = threading.Thread(target=spawn, args=(i,))\n",
        "#     # p.start()\n",
        "#     # p.join()\n",
        "    \n",
        "#   p=multiprocessing.Pool(6) # 15.65\n",
        "#   results = p.map(spawn,clfList) # clfList has 4 models, first 2 are fast, last 2 are slow\n",
        "#   results\n",
        "\n",
        "\n",
        "# end = time.time()\n",
        "# print(end - start)\n"
      ],
      "execution_count": null,
      "outputs": []
    },
    {
      "cell_type": "code",
      "metadata": {
        "id": "q0xAIEffkqU-",
        "colab_type": "code",
        "colab": {}
      },
      "source": [
        "# ET.score(X_test_SF,Y_test)\n"
      ],
      "execution_count": null,
      "outputs": []
    },
    {
      "cell_type": "code",
      "metadata": {
        "id": "UBY_i_Uf_QG4",
        "colab_type": "code",
        "colab": {}
      },
      "source": [
        ""
      ],
      "execution_count": null,
      "outputs": []
    },
    {
      "cell_type": "code",
      "metadata": {
        "id": "1IqJJqUO_QG7",
        "colab_type": "code",
        "colab": {}
      },
      "source": [
        ""
      ],
      "execution_count": null,
      "outputs": []
    },
    {
      "cell_type": "code",
      "metadata": {
        "id": "rk9MFP46_QG-",
        "colab_type": "code",
        "colab": {}
      },
      "source": [
        "# from sklearn.cluster import KMeans\n",
        "# for i in range(10):\n",
        "#     tmp = KMeans(i)    \n",
        "#     tmp = clf.fit(x,y)\n",
        "#     tmp = tmp.score(X_test_SF,Y_test)\n",
        "#     print(i,tmp)\n",
        "\n"
      ],
      "execution_count": null,
      "outputs": []
    },
    {
      "cell_type": "markdown",
      "metadata": {
        "id": "_CpIgnfF_QHC",
        "colab_type": "text"
      },
      "source": [
        "nope... that didnt end well. "
      ]
    },
    {
      "cell_type": "code",
      "metadata": {
        "id": "CRxi6CFz_QHF",
        "colab_type": "code",
        "colab": {}
      },
      "source": [
        ""
      ],
      "execution_count": null,
      "outputs": []
    },
    {
      "cell_type": "code",
      "metadata": {
        "id": "LNhmNgE5_QHI",
        "colab_type": "code",
        "colab": {}
      },
      "source": [
        ""
      ],
      "execution_count": null,
      "outputs": []
    },
    {
      "cell_type": "code",
      "metadata": {
        "id": "APkmU6e__QHL",
        "colab_type": "code",
        "colab": {}
      },
      "source": [
        ""
      ],
      "execution_count": null,
      "outputs": []
    },
    {
      "cell_type": "code",
      "metadata": {
        "id": "MO9HTqti_QHQ",
        "colab_type": "code",
        "colab": {}
      },
      "source": [
        ""
      ],
      "execution_count": null,
      "outputs": []
    }
  ]
}