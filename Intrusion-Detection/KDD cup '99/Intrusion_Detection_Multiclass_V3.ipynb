{
  "cells": [
    {
      "cell_type": "markdown",
      "metadata": {
        "colab_type": "text",
        "id": "view-in-github"
      },
      "source": [
        "<a href=\"https://colab.research.google.com/github/alik604/cyber-security/blob/master/Intrusion-Detection/KDD%20cup%20'99/Intrusion%20Detection%20V2%2099.99acc%20Multiclass_CLF.ipynb\" target=\"_parent\"><img src=\"https://colab.research.google.com/assets/colab-badge.svg\" alt=\"Open In Colab\"/></a>"
      ]
    },
    {
      "cell_type": "markdown",
      "metadata": {
        "colab_type": "text",
        "id": "-ZixxRgn_QE2"
      },
      "source": [
        "# Intrusion Detection \n",
        "\n",
        "### Dataset from https://www.kaggle.com/what0919/intrusion-detection\n",
        "\n",
        "### Sample code used: https://www.kaggle.com/nidhirastogi/intrusion-detection/data\n"
      ]
    },
    {
      "cell_type": "code",
      "execution_count": 1,
      "metadata": {
        "colab": {},
        "colab_type": "code",
        "id": "m9hIv2s7_QE6"
      },
      "outputs": [],
      "source": [
        "%%capture\n",
        "\n",
        "%config IPCompleter.greedy=True\n",
        "import pandas as pd\n",
        "# import seaborn as sns\n",
        "import numpy as np\n",
        "import sklearn\n",
        "from sklearn.model_selection import train_test_split\n",
        "from sklearn import preprocessing\n",
        "\n",
        "# !pip install xgboost\n",
        "# !pip install lightgbm\n",
        "# !pip install catboost\n",
        "import xgboost  # xgboost.readthedocs.io/en/latest/python/python_api.html#xgboost.XGBClassifier\n",
        "import lightgbm # lightgbm.readthedocs.io/en/latest/pythonapi/lightgbm.LGBMClassifier.html\n",
        "import catboost # catboost.ai/docs/concepts/python-quickstart.html\n",
        "\n",
        "\n",
        "\n",
        "import matplotlib.pyplot as plt\n",
        "%matplotlib inline\n",
        "\n",
        "from collections import Counter\n",
        "\n",
        "from IPython.core.interactiveshell import InteractiveShell\n",
        "InteractiveShell.ast_node_interactivity = \"all\"\n",
        "\n",
        "import warnings\n",
        "warnings.filterwarnings(\"ignore\")"
      ]
    },
    {
      "cell_type": "code",
      "execution_count": 2,
      "metadata": {
        "colab": {},
        "colab_type": "code",
        "id": "xcmNZAzs_Svh"
      },
      "outputs": [],
      "source": [
        "# %%bash\n",
        "\n",
        "# # wget dataset\n",
        "# # wget \"https://github.com/alik604/cyber-security/raw/master/Intrusion-Detection/KDD%20cup%20'99/kddcup.data.7z\"\n",
        "# # repeat after me, GitHub is a Content Delivery Network\n",
        "\n",
        "# # unzip local kddcup.data.7z\n",
        "# sudo apt-get install p7zip-full\n",
        "# 7z x kddcup.data.7z\n",
        "\n",
        "# ls"
      ]
    },
    {
      "cell_type": "code",
      "execution_count": 3,
      "metadata": {
        "colab": {
          "base_uri": "https://localhost:8080/",
          "height": 248
        },
        "colab_type": "code",
        "id": "JH1rg6ZqAxp-",
        "outputId": "e207b629-60f2-4e0a-b011-b2ce6427dc33"
      },
      "outputs": [
        {
          "data": {
            "text/html": [
              "<div>\n",
              "<style scoped>\n",
              "    .dataframe tbody tr th:only-of-type {\n",
              "        vertical-align: middle;\n",
              "    }\n",
              "\n",
              "    .dataframe tbody tr th {\n",
              "        vertical-align: top;\n",
              "    }\n",
              "\n",
              "    .dataframe thead th {\n",
              "        text-align: right;\n",
              "    }\n",
              "</style>\n",
              "<table border=\"1\" class=\"dataframe\">\n",
              "  <thead>\n",
              "    <tr style=\"text-align: right;\">\n",
              "      <th></th>\n",
              "      <th>duration</th>\n",
              "      <th>protocol_type</th>\n",
              "      <th>service</th>\n",
              "      <th>flag</th>\n",
              "      <th>src_bytes</th>\n",
              "      <th>dst_bytes</th>\n",
              "      <th>land</th>\n",
              "      <th>wrong_fragment</th>\n",
              "      <th>urgent</th>\n",
              "      <th>hot</th>\n",
              "      <th>...</th>\n",
              "      <th>dst_host_srv_count</th>\n",
              "      <th>dst_host_same_srv_rate</th>\n",
              "      <th>dst_host_diff_srv_rate</th>\n",
              "      <th>dst_host_same_src_port_rate</th>\n",
              "      <th>dst_host_srv_diff_host_rate</th>\n",
              "      <th>dst_host_serror_rate</th>\n",
              "      <th>dst_host_srv_serror_rate</th>\n",
              "      <th>dst_host_rerror_rate</th>\n",
              "      <th>dst_host_srv_rerror_rate</th>\n",
              "      <th>xAttack</th>\n",
              "    </tr>\n",
              "  </thead>\n",
              "  <tbody>\n",
              "    <tr>\n",
              "      <th>0</th>\n",
              "      <td>0</td>\n",
              "      <td>tcp</td>\n",
              "      <td>http</td>\n",
              "      <td>SF</td>\n",
              "      <td>215</td>\n",
              "      <td>45076</td>\n",
              "      <td>0</td>\n",
              "      <td>0</td>\n",
              "      <td>0</td>\n",
              "      <td>0</td>\n",
              "      <td>...</td>\n",
              "      <td>0</td>\n",
              "      <td>0.0</td>\n",
              "      <td>0.0</td>\n",
              "      <td>0.00</td>\n",
              "      <td>0.0</td>\n",
              "      <td>0.0</td>\n",
              "      <td>0.0</td>\n",
              "      <td>0.0</td>\n",
              "      <td>0.0</td>\n",
              "      <td>normal.</td>\n",
              "    </tr>\n",
              "    <tr>\n",
              "      <th>1</th>\n",
              "      <td>0</td>\n",
              "      <td>tcp</td>\n",
              "      <td>http</td>\n",
              "      <td>SF</td>\n",
              "      <td>162</td>\n",
              "      <td>4528</td>\n",
              "      <td>0</td>\n",
              "      <td>0</td>\n",
              "      <td>0</td>\n",
              "      <td>0</td>\n",
              "      <td>...</td>\n",
              "      <td>1</td>\n",
              "      <td>1.0</td>\n",
              "      <td>0.0</td>\n",
              "      <td>1.00</td>\n",
              "      <td>0.0</td>\n",
              "      <td>0.0</td>\n",
              "      <td>0.0</td>\n",
              "      <td>0.0</td>\n",
              "      <td>0.0</td>\n",
              "      <td>normal.</td>\n",
              "    </tr>\n",
              "    <tr>\n",
              "      <th>2</th>\n",
              "      <td>0</td>\n",
              "      <td>tcp</td>\n",
              "      <td>http</td>\n",
              "      <td>SF</td>\n",
              "      <td>236</td>\n",
              "      <td>1228</td>\n",
              "      <td>0</td>\n",
              "      <td>0</td>\n",
              "      <td>0</td>\n",
              "      <td>0</td>\n",
              "      <td>...</td>\n",
              "      <td>2</td>\n",
              "      <td>1.0</td>\n",
              "      <td>0.0</td>\n",
              "      <td>0.50</td>\n",
              "      <td>0.0</td>\n",
              "      <td>0.0</td>\n",
              "      <td>0.0</td>\n",
              "      <td>0.0</td>\n",
              "      <td>0.0</td>\n",
              "      <td>normal.</td>\n",
              "    </tr>\n",
              "    <tr>\n",
              "      <th>3</th>\n",
              "      <td>0</td>\n",
              "      <td>tcp</td>\n",
              "      <td>http</td>\n",
              "      <td>SF</td>\n",
              "      <td>233</td>\n",
              "      <td>2032</td>\n",
              "      <td>0</td>\n",
              "      <td>0</td>\n",
              "      <td>0</td>\n",
              "      <td>0</td>\n",
              "      <td>...</td>\n",
              "      <td>3</td>\n",
              "      <td>1.0</td>\n",
              "      <td>0.0</td>\n",
              "      <td>0.33</td>\n",
              "      <td>0.0</td>\n",
              "      <td>0.0</td>\n",
              "      <td>0.0</td>\n",
              "      <td>0.0</td>\n",
              "      <td>0.0</td>\n",
              "      <td>normal.</td>\n",
              "    </tr>\n",
              "    <tr>\n",
              "      <th>4</th>\n",
              "      <td>0</td>\n",
              "      <td>tcp</td>\n",
              "      <td>http</td>\n",
              "      <td>SF</td>\n",
              "      <td>239</td>\n",
              "      <td>486</td>\n",
              "      <td>0</td>\n",
              "      <td>0</td>\n",
              "      <td>0</td>\n",
              "      <td>0</td>\n",
              "      <td>...</td>\n",
              "      <td>4</td>\n",
              "      <td>1.0</td>\n",
              "      <td>0.0</td>\n",
              "      <td>0.25</td>\n",
              "      <td>0.0</td>\n",
              "      <td>0.0</td>\n",
              "      <td>0.0</td>\n",
              "      <td>0.0</td>\n",
              "      <td>0.0</td>\n",
              "      <td>normal.</td>\n",
              "    </tr>\n",
              "  </tbody>\n",
              "</table>\n",
              "<p>5 rows × 42 columns</p>\n",
              "</div>"
            ],
            "text/plain": [
              "   duration protocol_type service flag  src_bytes  dst_bytes  land  \\\n",
              "0         0           tcp    http   SF        215      45076     0   \n",
              "1         0           tcp    http   SF        162       4528     0   \n",
              "2         0           tcp    http   SF        236       1228     0   \n",
              "3         0           tcp    http   SF        233       2032     0   \n",
              "4         0           tcp    http   SF        239        486     0   \n",
              "\n",
              "   wrong_fragment  urgent  hot  ...  dst_host_srv_count  \\\n",
              "0               0       0    0  ...                   0   \n",
              "1               0       0    0  ...                   1   \n",
              "2               0       0    0  ...                   2   \n",
              "3               0       0    0  ...                   3   \n",
              "4               0       0    0  ...                   4   \n",
              "\n",
              "   dst_host_same_srv_rate  dst_host_diff_srv_rate  \\\n",
              "0                     0.0                     0.0   \n",
              "1                     1.0                     0.0   \n",
              "2                     1.0                     0.0   \n",
              "3                     1.0                     0.0   \n",
              "4                     1.0                     0.0   \n",
              "\n",
              "   dst_host_same_src_port_rate  dst_host_srv_diff_host_rate  \\\n",
              "0                         0.00                          0.0   \n",
              "1                         1.00                          0.0   \n",
              "2                         0.50                          0.0   \n",
              "3                         0.33                          0.0   \n",
              "4                         0.25                          0.0   \n",
              "\n",
              "   dst_host_serror_rate  dst_host_srv_serror_rate  dst_host_rerror_rate  \\\n",
              "0                   0.0                       0.0                   0.0   \n",
              "1                   0.0                       0.0                   0.0   \n",
              "2                   0.0                       0.0                   0.0   \n",
              "3                   0.0                       0.0                   0.0   \n",
              "4                   0.0                       0.0                   0.0   \n",
              "\n",
              "   dst_host_srv_rerror_rate  xAttack  \n",
              "0                       0.0  normal.  \n",
              "1                       0.0  normal.  \n",
              "2                       0.0  normal.  \n",
              "3                       0.0  normal.  \n",
              "4                       0.0  normal.  \n",
              "\n",
              "[5 rows x 42 columns]"
            ]
          },
          "execution_count": 3,
          "metadata": {},
          "output_type": "execute_result"
        }
      ],
      "source": [
        "columns = [\"duration\" , \"protocol_type\" , \"service\" , \"flag\" , \"src_bytes\" , \"dst_bytes\" , \"land\" , \"wrong_fragment\" , \"urgent\" , \"hot\" , \"num_failed_logins\" , \"logged_in\" , \"num_compromised\" ,\n",
        "           \"root_shell\" , \"su_attempted\" , \"num_root\" , \"num_file_creations\" , \"num_shells\" , \"num_access_files\" , \"num_outbound_cmds\" , \"is_host_login\" , \"is_guest_login\" , \"count\" , \"srv_count\" ,\n",
        "           \"serror_rate\" , \"srv_serror_rate\" , \"rerror_rate\" , \"srv_rerror_rate\" , \"same_srv_rate\" , \"diff_srv_rate\" , \"srv_diff_host_rate\" , \"dst_host_count\" , \"dst_host_srv_count\" , \"dst_host_same_srv_rate\" ,\n",
        "           \"dst_host_diff_srv_rate\" , \"dst_host_same_src_port_rate\" , \"dst_host_srv_diff_host_rate\" , \"dst_host_serror_rate\" , \"dst_host_srv_serror_rate\" , \"dst_host_rerror_rate\" , \"dst_host_srv_rerror_rate\" , \"xAttack\"]\n",
        "\n",
        "all = pd.read_csv('./kddcup.data.csv', names=columns) # index_col=0\n",
        "\n",
        "all.head(5)"
      ]
    },
    {
      "cell_type": "code",
      "execution_count": 4,
      "metadata": {},
      "outputs": [
        {
          "name": "stdout",
          "output_type": "stream",
          "text": [
            "{'guess_passwd.', 'portsweep.', 'spy.', 'land.', 'warezmaster.', 'loadmodule.', 'phf.', 'nmap.', 'satan.', 'normal.', 'smurf.', 'rootkit.', 'back.', 'teardrop.', 'ipsweep.', 'imap.', 'multihop.', 'ftp_write.', 'buffer_overflow.', 'warezclient.', 'perl.', 'pod.', 'neptune.'}\n",
            "\n",
            "Counter({'smurf.': 2807886, 'neptune.': 1072017, 'normal.': 972781, 'satan.': 15892, 'ipsweep.': 12481, 'portsweep.': 10413, 'nmap.': 2316, 'back.': 2203, 'warezclient.': 1020, 'teardrop.': 979, 'pod.': 264, 'guess_passwd.': 53, 'buffer_overflow.': 30, 'land.': 21, 'warezmaster.': 20, 'imap.': 12, 'rootkit.': 10, 'loadmodule.': 9, 'ftp_write.': 8, 'multihop.': 7, 'phf.': 4, 'perl.': 3, 'spy.': 2})\n"
          ]
        },
        {
          "data": {
            "text/html": [
              "<div>\n",
              "<style scoped>\n",
              "    .dataframe tbody tr th:only-of-type {\n",
              "        vertical-align: middle;\n",
              "    }\n",
              "\n",
              "    .dataframe tbody tr th {\n",
              "        vertical-align: top;\n",
              "    }\n",
              "\n",
              "    .dataframe thead th {\n",
              "        text-align: right;\n",
              "    }\n",
              "</style>\n",
              "<table border=\"1\" class=\"dataframe\">\n",
              "  <thead>\n",
              "    <tr style=\"text-align: right;\">\n",
              "      <th></th>\n",
              "      <th>duration</th>\n",
              "      <th>protocol_type</th>\n",
              "      <th>service</th>\n",
              "      <th>flag</th>\n",
              "      <th>src_bytes</th>\n",
              "      <th>dst_bytes</th>\n",
              "      <th>land</th>\n",
              "      <th>wrong_fragment</th>\n",
              "      <th>urgent</th>\n",
              "      <th>hot</th>\n",
              "      <th>...</th>\n",
              "      <th>dst_host_srv_count</th>\n",
              "      <th>dst_host_same_srv_rate</th>\n",
              "      <th>dst_host_diff_srv_rate</th>\n",
              "      <th>dst_host_same_src_port_rate</th>\n",
              "      <th>dst_host_srv_diff_host_rate</th>\n",
              "      <th>dst_host_serror_rate</th>\n",
              "      <th>dst_host_srv_serror_rate</th>\n",
              "      <th>dst_host_rerror_rate</th>\n",
              "      <th>dst_host_srv_rerror_rate</th>\n",
              "      <th>xAttack</th>\n",
              "    </tr>\n",
              "  </thead>\n",
              "  <tbody>\n",
              "    <tr>\n",
              "      <th>0</th>\n",
              "      <td>0</td>\n",
              "      <td>1</td>\n",
              "      <td>24</td>\n",
              "      <td>9</td>\n",
              "      <td>215</td>\n",
              "      <td>45076</td>\n",
              "      <td>0</td>\n",
              "      <td>0</td>\n",
              "      <td>0</td>\n",
              "      <td>0</td>\n",
              "      <td>...</td>\n",
              "      <td>0</td>\n",
              "      <td>0.0</td>\n",
              "      <td>0.0</td>\n",
              "      <td>0.00</td>\n",
              "      <td>0.0</td>\n",
              "      <td>0.0</td>\n",
              "      <td>0.0</td>\n",
              "      <td>0.0</td>\n",
              "      <td>0.0</td>\n",
              "      <td>11</td>\n",
              "    </tr>\n",
              "    <tr>\n",
              "      <th>1</th>\n",
              "      <td>0</td>\n",
              "      <td>1</td>\n",
              "      <td>24</td>\n",
              "      <td>9</td>\n",
              "      <td>162</td>\n",
              "      <td>4528</td>\n",
              "      <td>0</td>\n",
              "      <td>0</td>\n",
              "      <td>0</td>\n",
              "      <td>0</td>\n",
              "      <td>...</td>\n",
              "      <td>1</td>\n",
              "      <td>1.0</td>\n",
              "      <td>0.0</td>\n",
              "      <td>1.00</td>\n",
              "      <td>0.0</td>\n",
              "      <td>0.0</td>\n",
              "      <td>0.0</td>\n",
              "      <td>0.0</td>\n",
              "      <td>0.0</td>\n",
              "      <td>11</td>\n",
              "    </tr>\n",
              "    <tr>\n",
              "      <th>2</th>\n",
              "      <td>0</td>\n",
              "      <td>1</td>\n",
              "      <td>24</td>\n",
              "      <td>9</td>\n",
              "      <td>236</td>\n",
              "      <td>1228</td>\n",
              "      <td>0</td>\n",
              "      <td>0</td>\n",
              "      <td>0</td>\n",
              "      <td>0</td>\n",
              "      <td>...</td>\n",
              "      <td>2</td>\n",
              "      <td>1.0</td>\n",
              "      <td>0.0</td>\n",
              "      <td>0.50</td>\n",
              "      <td>0.0</td>\n",
              "      <td>0.0</td>\n",
              "      <td>0.0</td>\n",
              "      <td>0.0</td>\n",
              "      <td>0.0</td>\n",
              "      <td>11</td>\n",
              "    </tr>\n",
              "    <tr>\n",
              "      <th>3</th>\n",
              "      <td>0</td>\n",
              "      <td>1</td>\n",
              "      <td>24</td>\n",
              "      <td>9</td>\n",
              "      <td>233</td>\n",
              "      <td>2032</td>\n",
              "      <td>0</td>\n",
              "      <td>0</td>\n",
              "      <td>0</td>\n",
              "      <td>0</td>\n",
              "      <td>...</td>\n",
              "      <td>3</td>\n",
              "      <td>1.0</td>\n",
              "      <td>0.0</td>\n",
              "      <td>0.33</td>\n",
              "      <td>0.0</td>\n",
              "      <td>0.0</td>\n",
              "      <td>0.0</td>\n",
              "      <td>0.0</td>\n",
              "      <td>0.0</td>\n",
              "      <td>11</td>\n",
              "    </tr>\n",
              "    <tr>\n",
              "      <th>4</th>\n",
              "      <td>0</td>\n",
              "      <td>1</td>\n",
              "      <td>24</td>\n",
              "      <td>9</td>\n",
              "      <td>239</td>\n",
              "      <td>486</td>\n",
              "      <td>0</td>\n",
              "      <td>0</td>\n",
              "      <td>0</td>\n",
              "      <td>0</td>\n",
              "      <td>...</td>\n",
              "      <td>4</td>\n",
              "      <td>1.0</td>\n",
              "      <td>0.0</td>\n",
              "      <td>0.25</td>\n",
              "      <td>0.0</td>\n",
              "      <td>0.0</td>\n",
              "      <td>0.0</td>\n",
              "      <td>0.0</td>\n",
              "      <td>0.0</td>\n",
              "      <td>11</td>\n",
              "    </tr>\n",
              "  </tbody>\n",
              "</table>\n",
              "<p>5 rows × 42 columns</p>\n",
              "</div>"
            ],
            "text/plain": [
              "   duration  protocol_type  service  flag  src_bytes  dst_bytes  land  \\\n",
              "0         0              1       24     9        215      45076     0   \n",
              "1         0              1       24     9        162       4528     0   \n",
              "2         0              1       24     9        236       1228     0   \n",
              "3         0              1       24     9        233       2032     0   \n",
              "4         0              1       24     9        239        486     0   \n",
              "\n",
              "   wrong_fragment  urgent  hot  ...  dst_host_srv_count  \\\n",
              "0               0       0    0  ...                   0   \n",
              "1               0       0    0  ...                   1   \n",
              "2               0       0    0  ...                   2   \n",
              "3               0       0    0  ...                   3   \n",
              "4               0       0    0  ...                   4   \n",
              "\n",
              "   dst_host_same_srv_rate  dst_host_diff_srv_rate  \\\n",
              "0                     0.0                     0.0   \n",
              "1                     1.0                     0.0   \n",
              "2                     1.0                     0.0   \n",
              "3                     1.0                     0.0   \n",
              "4                     1.0                     0.0   \n",
              "\n",
              "   dst_host_same_src_port_rate  dst_host_srv_diff_host_rate  \\\n",
              "0                         0.00                          0.0   \n",
              "1                         1.00                          0.0   \n",
              "2                         0.50                          0.0   \n",
              "3                         0.33                          0.0   \n",
              "4                         0.25                          0.0   \n",
              "\n",
              "   dst_host_serror_rate  dst_host_srv_serror_rate  dst_host_rerror_rate  \\\n",
              "0                   0.0                       0.0                   0.0   \n",
              "1                   0.0                       0.0                   0.0   \n",
              "2                   0.0                       0.0                   0.0   \n",
              "3                   0.0                       0.0                   0.0   \n",
              "4                   0.0                       0.0                   0.0   \n",
              "\n",
              "   dst_host_srv_rerror_rate  xAttack  \n",
              "0                       0.0       11  \n",
              "1                       0.0       11  \n",
              "2                       0.0       11  \n",
              "3                       0.0       11  \n",
              "4                       0.0       11  \n",
              "\n",
              "[5 rows x 42 columns]"
            ]
          },
          "execution_count": 4,
          "metadata": {},
          "output_type": "execute_result"
        }
      ],
      "source": [
        "le = preprocessing.LabelEncoder()\n",
        "\n",
        "print(set(np.unique(all['xAttack'])), end=\"\\n\\n\")\n",
        "print(Counter(all['xAttack']))\n",
        "\n",
        "for col in ['protocol_type', 'service', 'flag', 'xAttack']:\n",
        "  all[col] = le.fit_transform(all[col])\n",
        "\n",
        "all.head(5)"
      ]
    },
    {
      "cell_type": "markdown",
      "metadata": {},
      "source": [
        "### Option to `USE_HALF` of the data for faster development"
      ]
    },
    {
      "cell_type": "code",
      "execution_count": 5,
      "metadata": {
        "colab": {},
        "colab_type": "code",
        "id": "1kOQHweQ_QE-"
      },
      "outputs": [],
      "source": [
        "USE_HALF = True\n",
        "\n",
        "if USE_HALF:\n",
        "    X_train, X_test, y_train, y_test = train_test_split(all.drop(['xAttack'], axis=1), all['xAttack'], test_size=0.5, random_state=42)\n",
        "    X_train, X_test, y_train, y_test = train_test_split(X_train, y_train, test_size=0.2, random_state=42)\n",
        "\n",
        "else: \n",
        "    X_train, X_test, y_train, y_test = train_test_split(all.drop(['xAttack'], axis=1), all['xAttack'], test_size=0.2, random_state=42)"
      ]
    },
    {
      "cell_type": "markdown",
      "metadata": {
        "colab_type": "text",
        "id": "B1yzN9vzBjEr"
      },
      "source": [
        "#### Drop features with lowest corr\n"
      ]
    },
    {
      "cell_type": "code",
      "execution_count": 6,
      "metadata": {
        "colab": {},
        "colab_type": "code",
        "id": "Y5PCmnfo0khb"
      },
      "outputs": [
        {
          "data": {
            "text/plain": [
              "src_bytes          0.000315\n",
              "is_host_login      0.000565\n",
              "dst_bytes          0.000789\n",
              "urgent             0.001129\n",
              "num_compromised    0.002170\n",
              "Name: xAttack, dtype: float64"
            ]
          },
          "execution_count": 6,
          "metadata": {},
          "output_type": "execute_result"
        }
      ],
      "source": [
        "# print('\\n')\n",
        "tmp = all.corr().abs()#.sort_values('xAttack')\n",
        "garbage_corr = tmp['xAttack'].nsmallest(5)\n",
        "garbage_corr\n",
        "garbage_corr = garbage_corr.index.to_list() # list(garbage.index)"
      ]
    },
    {
      "cell_type": "markdown",
      "metadata": {
        "colab_type": "text",
        "id": "60WOhD9X_QFf"
      },
      "source": [
        "#### Drop features with lowest STD"
      ]
    },
    {
      "cell_type": "code",
      "execution_count": 7,
      "metadata": {
        "colab": {
          "base_uri": "https://localhost:8080/",
          "height": 108
        },
        "colab_type": "code",
        "id": "NsFRJ0zE_QFo",
        "outputId": "ecfab105-49d4-4d72-884a-42b2b43670b4"
      },
      "outputs": [
        {
          "data": {
            "text/html": [
              "<div>\n",
              "<style scoped>\n",
              "    .dataframe tbody tr th:only-of-type {\n",
              "        vertical-align: middle;\n",
              "    }\n",
              "\n",
              "    .dataframe tbody tr th {\n",
              "        vertical-align: top;\n",
              "    }\n",
              "\n",
              "    .dataframe thead th {\n",
              "        text-align: right;\n",
              "    }\n",
              "</style>\n",
              "<table border=\"1\" class=\"dataframe\">\n",
              "  <thead>\n",
              "    <tr style=\"text-align: right;\">\n",
              "      <th></th>\n",
              "      <th>0</th>\n",
              "    </tr>\n",
              "  </thead>\n",
              "  <tbody>\n",
              "    <tr>\n",
              "      <th>num_outbound_cmds</th>\n",
              "      <td>0.000000</td>\n",
              "    </tr>\n",
              "    <tr>\n",
              "      <th>is_host_login</th>\n",
              "      <td>0.000639</td>\n",
              "    </tr>\n",
              "    <tr>\n",
              "      <th>land</th>\n",
              "      <td>0.002391</td>\n",
              "    </tr>\n",
              "    <tr>\n",
              "      <th>urgent</th>\n",
              "      <td>0.007215</td>\n",
              "    </tr>\n",
              "    <tr>\n",
              "      <th>num_failed_logins</th>\n",
              "      <td>0.007299</td>\n",
              "    </tr>\n",
              "  </tbody>\n",
              "</table>\n",
              "</div>"
            ],
            "text/plain": [
              "                          0\n",
              "num_outbound_cmds  0.000000\n",
              "is_host_login      0.000639\n",
              "land               0.002391\n",
              "urgent             0.007215\n",
              "num_failed_logins  0.007299"
            ]
          },
          "execution_count": 7,
          "metadata": {},
          "output_type": "execute_result"
        },
        {
          "name": "stdout",
          "output_type": "stream",
          "text": [
            "{'src_bytes', 'num_failed_logins', 'num_compromised', 'urgent', 'dst_bytes', 'is_host_login', 'num_outbound_cmds', 'land'}\n"
          ]
        }
      ],
      "source": [
        "tmp = all.std(axis=0).to_frame()\n",
        "garbage_std = tmp.nsmallest(5, columns=0)\n",
        "garbage_std\n",
        "garbage_std = garbage_std.index.to_list()\n",
        "print(set(garbage_corr + garbage_std))"
      ]
    },
    {
      "cell_type": "markdown",
      "metadata": {},
      "source": [
        "### Option to remove features with lowest STD and lowest corr"
      ]
    },
    {
      "cell_type": "code",
      "execution_count": 8,
      "metadata": {},
      "outputs": [],
      "source": [
        "REMOVE_FEATURES = True\n",
        "\n",
        "if REMOVE_FEATURES and garbage_std[0] in X_train.columns: \n",
        "    to_remove = set(garbage_corr + garbage_std)\n",
        "    X_train.drop(to_remove, axis=1, inplace=True)\n",
        "    X_test.drop(to_remove, axis=1, inplace=True)\n"
      ]
    },
    {
      "cell_type": "markdown",
      "metadata": {},
      "source": [
        "## Do some ML..."
      ]
    },
    {
      "cell_type": "code",
      "execution_count": 9,
      "metadata": {
        "colab": {},
        "colab_type": "code",
        "id": "G4e7NTqd_QFr"
      },
      "outputs": [],
      "source": [
        "from sklearn import linear_model\n",
        "\n",
        "from sklearn.ensemble import VotingClassifier\n",
        "\n",
        "from sklearn.ensemble import AdaBoostClassifier\n",
        "from sklearn.ensemble import RandomForestClassifier\n",
        "from sklearn.ensemble import BaggingClassifier\n",
        "from sklearn.ensemble import ExtraTreesClassifier\n",
        "from sklearn.ensemble import GradientBoostingClassifier\n",
        "from sklearn.ensemble import IsolationForest\n",
        "\n",
        "from sklearn.metrics import classification_report, f1_score\n",
        "\n",
        "\n",
        "from sklearn.svm import SVC\n",
        "from sklearn.tree import DecisionTreeClassifier"
      ]
    },
    {
      "cell_type": "code",
      "execution_count": 10,
      "metadata": {
        "colab": {
          "base_uri": "https://localhost:8080/",
          "height": 54
        },
        "colab_type": "code",
        "id": "3gTEKlbI_QFu",
        "outputId": "665184f4-a0de-42ba-fca6-c90e0c12e714"
      },
      "outputs": [
        {
          "data": {
            "text/plain": [
              "LogisticRegression()"
            ]
          },
          "execution_count": 10,
          "metadata": {},
          "output_type": "execute_result"
        },
        {
          "name": "stdout",
          "output_type": "stream",
          "text": [
            "Logistic regression processing ,,,\n",
            "Logistic regression Score: 0.99 %\n",
            "              precision    recall  f1-score   support\n",
            "\n",
            "           0       0.00      0.00      0.00       229\n",
            "           1       0.00      0.00      0.00         3\n",
            "           2       0.00      0.00      0.00         2\n",
            "           3       0.00      0.00      0.00         4\n",
            "           5       0.00      0.00      0.00      1201\n",
            "           6       0.00      0.00      0.00         1\n",
            "           7       0.00      0.00      0.00         3\n",
            "           9       0.99      0.99      0.99    107152\n",
            "          10       0.00      0.00      0.00       222\n",
            "          11       0.96      0.99      0.98     97012\n",
            "          13       0.00      0.00      0.00         3\n",
            "          14       0.00      0.00      0.00        26\n",
            "          15       0.29      0.00      0.00      1020\n",
            "          16       0.00      0.00      0.00         2\n",
            "          17       0.96      0.82      0.88      1603\n",
            "          18       1.00      1.00      1.00    281163\n",
            "          20       0.00      0.00      0.00        85\n",
            "          21       0.00      0.00      0.00       108\n",
            "          22       0.00      0.00      0.00         4\n",
            "\n",
            "    accuracy                           0.99    489843\n",
            "   macro avg       0.22      0.20      0.20    489843\n",
            "weighted avg       0.98      0.99      0.99    489843\n",
            "\n"
          ]
        }
      ],
      "source": [
        "## runs very long... so i set `N`\n",
        "N = 500000\n",
        "LR = linear_model.LogisticRegression()\n",
        "LR.fit(X_train[:N], y_train[:N])\n",
        "lr_score = LR.score(X_test[:N], y_test[:N])\n",
        "print('Logistic regression processing ,,,')\n",
        "print('Logistic regression Score: %.2f %%' % lr_score)\n",
        "\n",
        "print(classification_report(y_test, LR.predict(X_test)))"
      ]
    },
    {
      "cell_type": "code",
      "execution_count": 11,
      "metadata": {
        "colab": {},
        "colab_type": "code",
        "id": "7y-NiCAv_QF9"
      },
      "outputs": [],
      "source": [
        "AB = AdaBoostClassifier(base_estimator=DecisionTreeClassifier(max_depth=5), n_estimators=40) # 50\n",
        "RF = RandomForestClassifier(n_estimators=100, criterion='entropy')\n",
        "ET = ExtraTreesClassifier(n_estimators=100, criterion='gini', bootstrap=False)\n",
        "GB = GradientBoostingClassifier(loss='deviance', learning_rate=0.1, n_estimators=200, max_features='auto')"
      ]
    },
    {
      "cell_type": "code",
      "execution_count": 12,
      "metadata": {
        "colab": {
          "base_uri": "https://localhost:8080/",
          "height": 54
        },
        "colab_type": "code",
        "id": "OY4ePfZq_QGD",
        "outputId": "fb668d52-d69a-450e-c823-a65e55f96b43"
      },
      "outputs": [
        {
          "name": "stdout",
          "output_type": "stream",
          "text": [
            "AdaBoostClassifier processing...\n",
            "AdaBoostClassifier Score: 0.999 %\n"
          ]
        }
      ],
      "source": [
        "_ = AB.fit(X_train[:80000], y_train[:80000])\n",
        "AB_feature = AB.feature_importances_\n",
        "ab_score = AB.score(X_test, y_test)\n",
        "\n",
        "print('AdaBoostClassifier processing...')\n",
        "print('AdaBoostClassifier Score: %.3f %%' % ab_score)\n",
        "# print(classification_report(y_test, AB.predict(X_test)))"
      ]
    },
    {
      "cell_type": "code",
      "execution_count": 13,
      "metadata": {
        "colab": {
          "base_uri": "https://localhost:8080/",
          "height": 54
        },
        "colab_type": "code",
        "id": "mGENFPUS_QGN",
        "outputId": "ebbdeed8-ad6c-4b70-add6-ef90c2876008"
      },
      "outputs": [
        {
          "name": "stdout",
          "output_type": "stream",
          "text": [
            "RandomForestClassifier processing...\n",
            "RandomForestClassifier Score: 1.000 %\n"
          ]
        }
      ],
      "source": [
        "_ = RF.fit(X_train, y_train)\n",
        "RF_feature = RF.feature_importances_\n",
        "rf_score = RF.score(X_test, y_test)\n",
        "\n",
        "print('RandomForestClassifier processing...')\n",
        "print('RandomForestClassifier Score: %.3f %%' % rf_score)"
      ]
    },
    {
      "cell_type": "code",
      "execution_count": 14,
      "metadata": {
        "colab": {
          "base_uri": "https://localhost:8080/",
          "height": 54
        },
        "colab_type": "code",
        "id": "NDZHaC4K_QGV",
        "outputId": "67f42732-d8c1-404d-cb1c-97bdb7ee4e1c"
      },
      "outputs": [
        {
          "name": "stdout",
          "output_type": "stream",
          "text": [
            "ExtraTreesClassifier processing...\n",
            "ExtraTreeClassifier: 1.000 %\n"
          ]
        }
      ],
      "source": [
        "_ = ET.fit(X_train, y_train)\n",
        "ET_feature = ET.feature_importances_\n",
        "et_score = ET.score(X_test, y_test)\n",
        "\n",
        "print('ExtraTreesClassifier processing...')\n",
        "print('ExtraTreeClassifier: %.3f %%' % et_score)"
      ]
    },
    {
      "cell_type": "code",
      "execution_count": 15,
      "metadata": {
        "colab": {
          "base_uri": "https://localhost:8080/",
          "height": 54
        },
        "colab_type": "code",
        "id": "jJ6oCaY3_QGY",
        "outputId": "6e512542-6af9-4d3d-b76e-f369269cf5ae"
      },
      "outputs": [
        {
          "name": "stdout",
          "output_type": "stream",
          "text": [
            "GradientBoostingClassifier processing...\n",
            "GradientBoostingClassifier Score: 0.989 %\n"
          ]
        }
      ],
      "source": [
        "_ = GB.fit(X_train[:40000], y_train[:40000])\n",
        "GB_feature = GB.feature_importances_\n",
        "gb_score = GB.score(X_test, y_test)\n",
        "\n",
        "print('GradientBoostingClassifier processing...')\n",
        "print('GradientBoostingClassifier Score: %.3f %%' % gb_score)"
      ]
    },
    {
      "cell_type": "code",
      "execution_count": 16,
      "metadata": {
        "colab": {
          "base_uri": "https://localhost:8080/",
          "height": 348
        },
        "colab_type": "code",
        "id": "G6xhq-V7_QGb",
        "outputId": "1973250c-59fb-4eb2-e2f3-4772ebd31674"
      },
      "outputs": [
        {
          "data": {
            "text/html": [
              "<div>\n",
              "<style scoped>\n",
              "    .dataframe tbody tr th:only-of-type {\n",
              "        vertical-align: middle;\n",
              "    }\n",
              "\n",
              "    .dataframe tbody tr th {\n",
              "        vertical-align: top;\n",
              "    }\n",
              "\n",
              "    .dataframe thead th {\n",
              "        text-align: right;\n",
              "    }\n",
              "</style>\n",
              "<table border=\"1\" class=\"dataframe\">\n",
              "  <thead>\n",
              "    <tr style=\"text-align: right;\">\n",
              "      <th></th>\n",
              "      <th>features</th>\n",
              "      <th>AdaBoost</th>\n",
              "      <th>RandomForest</th>\n",
              "      <th>ExtraTree</th>\n",
              "      <th>GradientBoost</th>\n",
              "    </tr>\n",
              "  </thead>\n",
              "  <tbody>\n",
              "    <tr>\n",
              "      <th>0</th>\n",
              "      <td>duration</td>\n",
              "      <td>7.968892e-05</td>\n",
              "      <td>8.174294e-04</td>\n",
              "      <td>0.000168</td>\n",
              "      <td>0.003402</td>\n",
              "    </tr>\n",
              "    <tr>\n",
              "      <th>1</th>\n",
              "      <td>protocol_type</td>\n",
              "      <td>4.479195e-02</td>\n",
              "      <td>8.812622e-02</td>\n",
              "      <td>0.103234</td>\n",
              "      <td>0.007594</td>\n",
              "    </tr>\n",
              "    <tr>\n",
              "      <th>2</th>\n",
              "      <td>service</td>\n",
              "      <td>1.037501e-01</td>\n",
              "      <td>1.027312e-01</td>\n",
              "      <td>0.024460</td>\n",
              "      <td>0.030948</td>\n",
              "    </tr>\n",
              "    <tr>\n",
              "      <th>3</th>\n",
              "      <td>flag</td>\n",
              "      <td>5.254557e-02</td>\n",
              "      <td>4.812925e-02</td>\n",
              "      <td>0.032790</td>\n",
              "      <td>0.008353</td>\n",
              "    </tr>\n",
              "    <tr>\n",
              "      <th>4</th>\n",
              "      <td>wrong_fragment</td>\n",
              "      <td>1.021569e-01</td>\n",
              "      <td>7.150973e-04</td>\n",
              "      <td>0.000573</td>\n",
              "      <td>0.000058</td>\n",
              "    </tr>\n",
              "    <tr>\n",
              "      <th>5</th>\n",
              "      <td>hot</td>\n",
              "      <td>1.901631e-02</td>\n",
              "      <td>1.629530e-03</td>\n",
              "      <td>0.001030</td>\n",
              "      <td>0.001099</td>\n",
              "    </tr>\n",
              "    <tr>\n",
              "      <th>6</th>\n",
              "      <td>logged_in</td>\n",
              "      <td>3.773389e-02</td>\n",
              "      <td>1.530483e-02</td>\n",
              "      <td>0.056275</td>\n",
              "      <td>0.002932</td>\n",
              "    </tr>\n",
              "    <tr>\n",
              "      <th>7</th>\n",
              "      <td>root_shell</td>\n",
              "      <td>5.030321e-02</td>\n",
              "      <td>8.848849e-06</td>\n",
              "      <td>0.000009</td>\n",
              "      <td>0.000010</td>\n",
              "    </tr>\n",
              "    <tr>\n",
              "      <th>8</th>\n",
              "      <td>su_attempted</td>\n",
              "      <td>0.000000e+00</td>\n",
              "      <td>2.977811e-07</td>\n",
              "      <td>0.000001</td>\n",
              "      <td>0.000000</td>\n",
              "    </tr>\n",
              "    <tr>\n",
              "      <th>9</th>\n",
              "      <td>num_root</td>\n",
              "      <td>9.716080e-09</td>\n",
              "      <td>9.638793e-06</td>\n",
              "      <td>0.000008</td>\n",
              "      <td>0.012764</td>\n",
              "    </tr>\n",
              "  </tbody>\n",
              "</table>\n",
              "</div>"
            ],
            "text/plain": [
              "         features      AdaBoost  RandomForest  ExtraTree  GradientBoost\n",
              "0        duration  7.968892e-05  8.174294e-04   0.000168       0.003402\n",
              "1   protocol_type  4.479195e-02  8.812622e-02   0.103234       0.007594\n",
              "2         service  1.037501e-01  1.027312e-01   0.024460       0.030948\n",
              "3            flag  5.254557e-02  4.812925e-02   0.032790       0.008353\n",
              "4  wrong_fragment  1.021569e-01  7.150973e-04   0.000573       0.000058\n",
              "5             hot  1.901631e-02  1.629530e-03   0.001030       0.001099\n",
              "6       logged_in  3.773389e-02  1.530483e-02   0.056275       0.002932\n",
              "7      root_shell  5.030321e-02  8.848849e-06   0.000009       0.000010\n",
              "8    su_attempted  0.000000e+00  2.977811e-07   0.000001       0.000000\n",
              "9        num_root  9.716080e-09  9.638793e-06   0.000008       0.012764"
            ]
          },
          "execution_count": 16,
          "metadata": {},
          "output_type": "execute_result"
        }
      ],
      "source": [
        "feature_df = pd.DataFrame({'features': X_train.columns.values, # names\n",
        "                           'AdaBoost' : AB_feature,\n",
        "                           'RandomForest' : RF_feature,\n",
        "                           'ExtraTree' : ET_feature,\n",
        "                           'GradientBoost' : GB_feature\n",
        "                          })\n",
        "#feature_df.features\n",
        "feature_df.head(10)"
      ]
    },
    {
      "cell_type": "code",
      "execution_count": 17,
      "metadata": {
        "colab": {
          "base_uri": "https://localhost:8080/",
          "height": 90
        },
        "colab_type": "code",
        "id": "SOPwTYny_QGe",
        "outputId": "0f9c56cc-aa56-4b30-a70a-2d32acc91469"
      },
      "outputs": [
        {
          "data": {
            "text/html": [
              "<div>\n",
              "<style scoped>\n",
              "    .dataframe tbody tr th:only-of-type {\n",
              "        vertical-align: middle;\n",
              "    }\n",
              "\n",
              "    .dataframe tbody tr th {\n",
              "        vertical-align: top;\n",
              "    }\n",
              "\n",
              "    .dataframe thead th {\n",
              "        text-align: right;\n",
              "    }\n",
              "</style>\n",
              "<table border=\"1\" class=\"dataframe\">\n",
              "  <thead>\n",
              "    <tr style=\"text-align: right;\">\n",
              "      <th></th>\n",
              "      <th>AdaBoost</th>\n",
              "      <th>RandomForest</th>\n",
              "      <th>ExtraTree</th>\n",
              "      <th>GradientBoost</th>\n",
              "      <th>Sum</th>\n",
              "    </tr>\n",
              "    <tr>\n",
              "      <th>features</th>\n",
              "      <th></th>\n",
              "      <th></th>\n",
              "      <th></th>\n",
              "      <th></th>\n",
              "      <th></th>\n",
              "    </tr>\n",
              "  </thead>\n",
              "  <tbody>\n",
              "    <tr>\n",
              "      <th>count</th>\n",
              "      <td>1.920625e-01</td>\n",
              "      <td>0.694683</td>\n",
              "      <td>0.514748</td>\n",
              "      <td>0.933194</td>\n",
              "      <td>2.334688</td>\n",
              "    </tr>\n",
              "    <tr>\n",
              "      <th>srv_count</th>\n",
              "      <td>2.646765e-01</td>\n",
              "      <td>0.605307</td>\n",
              "      <td>0.540050</td>\n",
              "      <td>0.204992</td>\n",
              "      <td>1.615026</td>\n",
              "    </tr>\n",
              "    <tr>\n",
              "      <th>same_srv_rate</th>\n",
              "      <td>2.061557e-01</td>\n",
              "      <td>0.214481</td>\n",
              "      <td>0.347402</td>\n",
              "      <td>0.534401</td>\n",
              "      <td>1.302440</td>\n",
              "    </tr>\n",
              "    <tr>\n",
              "      <th>dst_host_diff_srv_rate</th>\n",
              "      <td>2.419626e-01</td>\n",
              "      <td>0.159284</td>\n",
              "      <td>0.049250</td>\n",
              "      <td>0.771300</td>\n",
              "      <td>1.221797</td>\n",
              "    </tr>\n",
              "    <tr>\n",
              "      <th>service</th>\n",
              "      <td>4.150005e-01</td>\n",
              "      <td>0.410925</td>\n",
              "      <td>0.097840</td>\n",
              "      <td>0.123793</td>\n",
              "      <td>1.047559</td>\n",
              "    </tr>\n",
              "    <tr>\n",
              "      <th>dst_host_same_src_port_rate</th>\n",
              "      <td>1.248629e-01</td>\n",
              "      <td>0.325353</td>\n",
              "      <td>0.383798</td>\n",
              "      <td>0.149884</td>\n",
              "      <td>0.983898</td>\n",
              "    </tr>\n",
              "    <tr>\n",
              "      <th>protocol_type</th>\n",
              "      <td>1.791678e-01</td>\n",
              "      <td>0.352505</td>\n",
              "      <td>0.412936</td>\n",
              "      <td>0.030378</td>\n",
              "      <td>0.974986</td>\n",
              "    </tr>\n",
              "    <tr>\n",
              "      <th>dst_host_srv_diff_host_rate</th>\n",
              "      <td>6.003481e-02</td>\n",
              "      <td>0.022051</td>\n",
              "      <td>0.014583</td>\n",
              "      <td>0.876946</td>\n",
              "      <td>0.973614</td>\n",
              "    </tr>\n",
              "    <tr>\n",
              "      <th>dst_host_srv_count</th>\n",
              "      <td>5.485100e-01</td>\n",
              "      <td>0.132385</td>\n",
              "      <td>0.266100</td>\n",
              "      <td>0.022885</td>\n",
              "      <td>0.969880</td>\n",
              "    </tr>\n",
              "    <tr>\n",
              "      <th>dst_host_same_srv_rate</th>\n",
              "      <td>1.443322e-01</td>\n",
              "      <td>0.139777</td>\n",
              "      <td>0.257947</td>\n",
              "      <td>0.075596</td>\n",
              "      <td>0.617652</td>\n",
              "    </tr>\n",
              "    <tr>\n",
              "      <th>flag</th>\n",
              "      <td>2.101823e-01</td>\n",
              "      <td>0.192517</td>\n",
              "      <td>0.131162</td>\n",
              "      <td>0.033411</td>\n",
              "      <td>0.567272</td>\n",
              "    </tr>\n",
              "    <tr>\n",
              "      <th>logged_in</th>\n",
              "      <td>1.509356e-01</td>\n",
              "      <td>0.061219</td>\n",
              "      <td>0.225098</td>\n",
              "      <td>0.011727</td>\n",
              "      <td>0.448980</td>\n",
              "    </tr>\n",
              "    <tr>\n",
              "      <th>diff_srv_rate</th>\n",
              "      <td>1.180038e-01</td>\n",
              "      <td>0.260914</td>\n",
              "      <td>0.050423</td>\n",
              "      <td>0.014161</td>\n",
              "      <td>0.443502</td>\n",
              "    </tr>\n",
              "    <tr>\n",
              "      <th>dst_host_serror_rate</th>\n",
              "      <td>1.860517e-01</td>\n",
              "      <td>0.112810</td>\n",
              "      <td>0.113235</td>\n",
              "      <td>0.022205</td>\n",
              "      <td>0.434302</td>\n",
              "    </tr>\n",
              "    <tr>\n",
              "      <th>wrong_fragment</th>\n",
              "      <td>4.086277e-01</td>\n",
              "      <td>0.002860</td>\n",
              "      <td>0.002293</td>\n",
              "      <td>0.000230</td>\n",
              "      <td>0.414011</td>\n",
              "    </tr>\n",
              "    <tr>\n",
              "      <th>dst_host_count</th>\n",
              "      <td>1.249075e-01</td>\n",
              "      <td>0.026326</td>\n",
              "      <td>0.081672</td>\n",
              "      <td>0.085561</td>\n",
              "      <td>0.318466</td>\n",
              "    </tr>\n",
              "    <tr>\n",
              "      <th>dst_host_srv_serror_rate</th>\n",
              "      <td>3.724887e-07</td>\n",
              "      <td>0.053923</td>\n",
              "      <td>0.152148</td>\n",
              "      <td>0.003899</td>\n",
              "      <td>0.209971</td>\n",
              "    </tr>\n",
              "    <tr>\n",
              "      <th>root_shell</th>\n",
              "      <td>2.012129e-01</td>\n",
              "      <td>0.000035</td>\n",
              "      <td>0.000036</td>\n",
              "      <td>0.000041</td>\n",
              "      <td>0.201325</td>\n",
              "    </tr>\n",
              "    <tr>\n",
              "      <th>srv_serror_rate</th>\n",
              "      <td>4.339564e-13</td>\n",
              "      <td>0.064291</td>\n",
              "      <td>0.133893</td>\n",
              "      <td>0.002731</td>\n",
              "      <td>0.200914</td>\n",
              "    </tr>\n",
              "    <tr>\n",
              "      <th>serror_rate</th>\n",
              "      <td>3.414210e-03</td>\n",
              "      <td>0.077406</td>\n",
              "      <td>0.075485</td>\n",
              "      <td>0.004189</td>\n",
              "      <td>0.160494</td>\n",
              "    </tr>\n",
              "  </tbody>\n",
              "</table>\n",
              "</div>"
            ],
            "text/plain": [
              "                                 AdaBoost  RandomForest  ExtraTree  \\\n",
              "features                                                             \n",
              "count                        1.920625e-01      0.694683   0.514748   \n",
              "srv_count                    2.646765e-01      0.605307   0.540050   \n",
              "same_srv_rate                2.061557e-01      0.214481   0.347402   \n",
              "dst_host_diff_srv_rate       2.419626e-01      0.159284   0.049250   \n",
              "service                      4.150005e-01      0.410925   0.097840   \n",
              "dst_host_same_src_port_rate  1.248629e-01      0.325353   0.383798   \n",
              "protocol_type                1.791678e-01      0.352505   0.412936   \n",
              "dst_host_srv_diff_host_rate  6.003481e-02      0.022051   0.014583   \n",
              "dst_host_srv_count           5.485100e-01      0.132385   0.266100   \n",
              "dst_host_same_srv_rate       1.443322e-01      0.139777   0.257947   \n",
              "flag                         2.101823e-01      0.192517   0.131162   \n",
              "logged_in                    1.509356e-01      0.061219   0.225098   \n",
              "diff_srv_rate                1.180038e-01      0.260914   0.050423   \n",
              "dst_host_serror_rate         1.860517e-01      0.112810   0.113235   \n",
              "wrong_fragment               4.086277e-01      0.002860   0.002293   \n",
              "dst_host_count               1.249075e-01      0.026326   0.081672   \n",
              "dst_host_srv_serror_rate     3.724887e-07      0.053923   0.152148   \n",
              "root_shell                   2.012129e-01      0.000035   0.000036   \n",
              "srv_serror_rate              4.339564e-13      0.064291   0.133893   \n",
              "serror_rate                  3.414210e-03      0.077406   0.075485   \n",
              "\n",
              "                             GradientBoost       Sum  \n",
              "features                                              \n",
              "count                             0.933194  2.334688  \n",
              "srv_count                         0.204992  1.615026  \n",
              "same_srv_rate                     0.534401  1.302440  \n",
              "dst_host_diff_srv_rate            0.771300  1.221797  \n",
              "service                           0.123793  1.047559  \n",
              "dst_host_same_src_port_rate       0.149884  0.983898  \n",
              "protocol_type                     0.030378  0.974986  \n",
              "dst_host_srv_diff_host_rate       0.876946  0.973614  \n",
              "dst_host_srv_count                0.022885  0.969880  \n",
              "dst_host_same_srv_rate            0.075596  0.617652  \n",
              "flag                              0.033411  0.567272  \n",
              "logged_in                         0.011727  0.448980  \n",
              "diff_srv_rate                     0.014161  0.443502  \n",
              "dst_host_serror_rate              0.022205  0.434302  \n",
              "wrong_fragment                    0.000230  0.414011  \n",
              "dst_host_count                    0.085561  0.318466  \n",
              "dst_host_srv_serror_rate          0.003899  0.209971  \n",
              "root_shell                        0.000041  0.201325  \n",
              "srv_serror_rate                   0.002731  0.200914  \n",
              "serror_rate                       0.004189  0.160494  "
            ]
          },
          "execution_count": 17,
          "metadata": {},
          "output_type": "execute_result"
        },
        {
          "data": {
            "text/plain": [
              "['count',\n",
              " 'srv_count',\n",
              " 'same_srv_rate',\n",
              " 'dst_host_diff_srv_rate',\n",
              " 'service',\n",
              " 'dst_host_same_src_port_rate',\n",
              " 'protocol_type',\n",
              " 'dst_host_srv_diff_host_rate',\n",
              " 'dst_host_srv_count',\n",
              " 'dst_host_same_srv_rate',\n",
              " 'flag',\n",
              " 'logged_in',\n",
              " 'diff_srv_rate',\n",
              " 'dst_host_serror_rate',\n",
              " 'wrong_fragment',\n",
              " 'dst_host_count',\n",
              " 'dst_host_srv_serror_rate',\n",
              " 'root_shell',\n",
              " 'srv_serror_rate',\n",
              " 'serror_rate']"
            ]
          },
          "execution_count": 17,
          "metadata": {},
          "output_type": "execute_result"
        }
      ],
      "source": [
        "TOP_N_FEATURES = 20\n",
        "\n",
        "n = 30\n",
        "a_f = feature_df.nlargest(n, 'AdaBoost')\n",
        "e_f = feature_df.nlargest(n, 'ExtraTree')\n",
        "g_f = feature_df.nlargest(n, 'GradientBoost')\n",
        "r_f = feature_df.nlargest(n, 'RandomForest')\n",
        "\n",
        "# concatenate results\n",
        "result = pd.concat([a_f, e_f, g_f, r_f], axis=0)\n",
        "result.set_index(\"features\", inplace=True)\n",
        "\n",
        "# 80 rows - > n rows\n",
        "result = result.groupby('features').sum()\n",
        "\n",
        "# get best featues via voting\n",
        "result['Sum'] = result.sum(axis=1)\n",
        "result.sort_values('Sum', ascending=False,inplace=True)\n",
        "result[:TOP_N_FEATURES]\n",
        "\n",
        "# get names of best features\n",
        "top_features = result[:TOP_N_FEATURES].index.to_list()\n",
        "top_features"
      ]
    },
    {
      "cell_type": "markdown",
      "metadata": {
        "colab_type": "text",
        "id": "MDdDSU8RO3a4"
      },
      "source": [
        "### Remove `selected_features` from our Data"
      ]
    },
    {
      "cell_type": "code",
      "execution_count": 18,
      "metadata": {
        "colab": {
          "base_uri": "https://localhost:8080/",
          "height": 72
        },
        "colab_type": "code",
        "id": "6W8vwtE0_QGh",
        "outputId": "fb2a18c0-d8a5-4d3c-e7ba-df3d46824d54"
      },
      "outputs": [],
      "source": [
        "X_train_SF = X_train[top_features]\n",
        "X_test_SF = X_test[top_features]\n",
        "\n",
        "\n",
        "assert X_train_SF.shape[0] == y_train.shape[0]\n",
        "\n",
        "# numb_of_train_points = 410000"
      ]
    },
    {
      "cell_type": "code",
      "execution_count": 26,
      "metadata": {
        "colab": {
          "base_uri": "https://localhost:8080/",
          "height": 108
        },
        "colab_type": "code",
        "id": "DPbIkY3GNXp6",
        "outputId": "9795956c-4c47-426f-a537-2b274b88a1be"
      },
      "outputs": [
        {
          "name": "stdout",
          "output_type": "stream",
          "text": [
            "F1: 0.66420 for the DecisionTreeClassifier\n",
            "F1: 0.69469 for the RandomForestClassifier\n",
            "F1: 0.69603 for the ExtraTreesClassifier\n",
            "F1: 0.70161 for the DecisionTreeClassifier\n",
            "F1: 0.14775 for the LGBMClassifier\n"
          ]
        }
      ],
      "source": [
        "DTC = DecisionTreeClassifier()\n",
        "RFC = RandomForestClassifier(n_estimators=150, random_state=42, n_jobs=-1)\n",
        "ETC = ExtraTreesClassifier(n_estimators=150, random_state=42, n_jobs=-1)\n",
        "XGB = DecisionTreeClassifier(random_state=42) # xgboost.XGBClassifier(n_estimators=100, n_jobs=-1)\n",
        "GBM = lightgbm.LGBMClassifier(objective='multiclass', n_estimators= 400)\n",
        "\n",
        "list_of_CLFs_names = []\n",
        "list_of_CLFs = [DTC, RFC, ETC, XGB, GBM]\n",
        "ranking = []\n",
        "\n",
        "for clf in list_of_CLFs:\n",
        "    _ = clf.fit(X_train, y_train)\n",
        "    pred = clf.score(X_test, y_test)\n",
        "    pred = f1_score(y_test, clf.predict(X_test), average='macro')\n",
        "    name = str(type(clf)).split(\".\")[-1][:-2]\n",
        "    print(\"F1: %0.5f for the %s\" % (pred, name))\n",
        "\n",
        "    ranking.append(pred)\n",
        "    list_of_CLFs_names.append(name)"
      ]
    },
    {
      "cell_type": "code",
      "execution_count": 23,
      "metadata": {
        "colab": {
          "base_uri": "https://localhost:8080/",
          "height": 108
        },
        "colab_type": "code",
        "id": "nYXY1ijlMMJz",
        "outputId": "9dfb22af-c8a1-4c39-a971-1c008f33c507"
      },
      "outputs": [
        {
          "name": "stdout",
          "output_type": "stream",
          "text": [
            "F1: 0.55387 for the DecisionTreeClassifier\n",
            "F1: 0.64427 for the RandomForestClassifier\n",
            "F1: 0.63751 for the ExtraTreesClassifier\n",
            "F1: 0.55387 for the DecisionTreeClassifier\n",
            "F1: 0.14829 for the LGBMClassifier\n"
          ]
        }
      ],
      "source": [
        "DTC = DecisionTreeClassifier(random_state=42)\n",
        "RFC = RandomForestClassifier(n_estimators=150, random_state=42, n_jobs=-1)\n",
        "ETC = ExtraTreesClassifier(n_estimators=200, random_state=42, n_jobs=-1)\n",
        "XGB = DecisionTreeClassifier(random_state=42) # xgboost.XGBClassifier(n_estimators=100, n_jobs=-1)\n",
        "GBM = lightgbm.LGBMClassifier(objective='multiclass', n_estimators= 400)\n",
        "\n",
        "list_of_CLFs_names = []\n",
        "list_of_CLFs = [DTC, RFC, ETC, XGB, GBM]\n",
        "ranking = []\n",
        "\n",
        "for clf in list_of_CLFs:\n",
        "    _ = clf.fit(X_train_SF, y_train)\n",
        "    # pred = clf.score(X_test_SF, y_test)\n",
        "    pred = f1_score(y_test, clf.predict(X_test_SF), average='macro')\n",
        "    name = str(type(clf)).split(\".\")[-1][:-2]\n",
        "    print(\"F1: %0.5f for the %s\" % (pred, name))\n",
        "\n",
        "    ranking.append(pred)\n",
        "    list_of_CLFs_names.append(name)"
      ]
    },
    {
      "cell_type": "code",
      "execution_count": 24,
      "metadata": {},
      "outputs": [
        {
          "data": {
            "text/plain": [
              "(1959372, 33)"
            ]
          },
          "execution_count": 24,
          "metadata": {},
          "output_type": "execute_result"
        },
        {
          "data": {
            "text/plain": [
              "(1959372, 5)"
            ]
          },
          "execution_count": 24,
          "metadata": {},
          "output_type": "execute_result"
        }
      ],
      "source": [
        "from sklearn.decomposition import * \n",
        "wanted_explained_variance_ratio = 0.9999\n",
        "pca = PCA(wanted_explained_variance_ratio)\n",
        "_ = pca.fit(X_train)\n",
        "X_train_PCA = pca.transform(X_train)\n",
        "X_test_PCA = pca.transform(X_test)\n",
        "\n",
        "X_train.shape\n",
        "X_train_PCA.shape"
      ]
    },
    {
      "cell_type": "code",
      "execution_count": 25,
      "metadata": {
        "colab": {
          "base_uri": "https://localhost:8080/",
          "height": 308
        },
        "colab_type": "code",
        "id": "eWTxb0IwPNbH",
        "outputId": "b8927acb-91d2-4fec-a1e6-29f1ad9845dd"
      },
      "outputs": [
        {
          "name": "stdout",
          "output_type": "stream",
          "text": [
            "F1: 0.41645 for the DecisionTreeClassifier\n",
            "F1: 0.46076 for the RandomForestClassifier\n",
            "F1: 0.46275 for the ExtraTreesClassifier\n",
            "F1: 0.43743 for the DecisionTreeClassifier\n",
            "F1: 0.08952 for the LGBMClassifier\n"
          ]
        }
      ],
      "source": [
        "DTC = DecisionTreeClassifier()\n",
        "RFC = RandomForestClassifier(n_estimators=150, random_state=42, n_jobs=-1)\n",
        "ETC = ExtraTreesClassifier(n_estimators=200, random_state=42, n_jobs=-1)\n",
        "XGB = DecisionTreeClassifier(random_state=42) # xgboost.XGBClassifier(n_estimators=100, n_jobs=-1)\n",
        "GBM = lightgbm.LGBMClassifier(objective='multiclass', n_estimators= 400)\n",
        "\n",
        "list_of_CLFs_names = []\n",
        "list_of_CLFs = [DTC, RFC, ETC, XGB, GBM]\n",
        "ranking = []\n",
        "\n",
        "for clf in list_of_CLFs:\n",
        "    _ = clf.fit(X_train_PCA, y_train)\n",
        "    # pred = clf.score(X_test_SF, y_test)\n",
        "    pred = f1_score(y_test, clf.predict(X_test_PCA), average='macro')\n",
        "    name = str(type(clf)).split(\".\")[-1][:-2]\n",
        "    print(\"F1: %0.5f for the %s\" % (pred, name))\n",
        "\n",
        "    ranking.append(pred)\n",
        "    list_of_CLFs_names.append(name)"
      ]
    },
    {
      "cell_type": "markdown",
      "metadata": {},
      "source": [
        "## try oversampling the data"
      ]
    },
    {
      "cell_type": "code",
      "execution_count": 31,
      "metadata": {},
      "outputs": [
        {
          "data": {
            "text/plain": [
              "(1959372, 33)"
            ]
          },
          "execution_count": 31,
          "metadata": {},
          "output_type": "execute_result"
        },
        {
          "data": {
            "text/plain": [
              "(24707760, 5)"
            ]
          },
          "execution_count": 31,
          "metadata": {},
          "output_type": "execute_result"
        }
      ],
      "source": [
        "# //  USING, X_train_PCA, X_test_PCA\n",
        "\n",
        "# %pip install imblearn\n",
        "\n",
        "X_train.shape\n",
        "X_train_OS.shape"
      ]
    },
    {
      "cell_type": "code",
      "execution_count": null,
      "metadata": {},
      "outputs": [],
      "source": [
        "from imblearn.over_sampling import RandomOverSampler\n",
        "from imblearn.under_sampling import RandomUnderSampler\n",
        "from collections import Counter\n",
        "print(sorted(Counter(y_train).items()))\n",
        "\n",
        "ros = RandomOverSampler(random_state=0)\n",
        "X_train_OS, y_train_OS = ros.fit_resample(X_train_SF, y_train)\n",
        "## DO NOT DO. thankfully it didnt run, this is now allowable\n",
        "# X_test_OS, y_test_OS = ros.resample(X_test_PCA, y_test)\n",
        "\n",
        "print(sorted(Counter(y_train_OS).items()))"
      ]
    },
    {
      "cell_type": "code",
      "execution_count": null,
      "metadata": {},
      "outputs": [],
      "source": [
        "# caution, very slow\n",
        "DTC = DecisionTreeClassifier()\n",
        "RFC = RandomForestClassifier(n_estimators=150, random_state=42, n_jobs=-1)\n",
        "ETC = ExtraTreesClassifier(n_estimators=200, random_state=42, n_jobs=-1)\n",
        "XGB = DecisionTreeClassifier(random_state=42) # xgboost.XGBClassifier(n_estimators=100, n_jobs=-1)\n",
        "GBM = lightgbm.LGBMClassifier(objective='multiclass', n_estimators= 400)\n",
        "\n",
        "list_of_CLFs_names = []\n",
        "list_of_CLFs = [DTC, RFC, ETC, XGB, GBM]\n",
        "ranking = []\n",
        "\n",
        "for clf in list_of_CLFs:\n",
        "    _ = clf.fit(X_train_OS, y_train_OS)\n",
        "    # pred = clf.score(X_test_SF, y_test)\n",
        "    pred = f1_score(y_test, clf.predict(X_test), average='macro')\n",
        "    name = str(type(clf)).split(\".\")[-1][:-2]\n",
        "    print(\"F1: %0.5f for the %s\" % (pred, name))\n",
        "\n",
        "    ranking.append(pred)\n",
        "    list_of_CLFs_names.append(name)"
      ]
    },
    {
      "cell_type": "code",
      "execution_count": null,
      "metadata": {
        "colab": {},
        "colab_type": "code",
        "id": "CRxi6CFz_QHF"
      },
      "outputs": [],
      "source": []
    },
    {
      "cell_type": "code",
      "execution_count": null,
      "metadata": {
        "colab": {},
        "colab_type": "code",
        "id": "LNhmNgE5_QHI"
      },
      "outputs": [],
      "source": []
    },
    {
      "cell_type": "code",
      "execution_count": null,
      "metadata": {
        "colab": {},
        "colab_type": "code",
        "id": "APkmU6e__QHL"
      },
      "outputs": [],
      "source": []
    },
    {
      "cell_type": "code",
      "execution_count": null,
      "metadata": {
        "colab": {},
        "colab_type": "code",
        "id": "MO9HTqti_QHQ"
      },
      "outputs": [],
      "source": []
    }
  ],
  "metadata": {
    "colab": {
      "collapsed_sections": [],
      "include_colab_link": true,
      "name": "amonalyDetection/Intrusion Detection.ipynb",
      "provenance": []
    },
    "kernelspec": {
      "display_name": "Python 3",
      "name": "python3"
    },
    "language_info": {
      "codemirror_mode": {
        "name": "ipython",
        "version": 3
      },
      "file_extension": ".py",
      "mimetype": "text/x-python",
      "name": "python",
      "nbconvert_exporter": "python",
      "pygments_lexer": "ipython3",
      "version": "3.9.9"
    }
  },
  "nbformat": 4,
  "nbformat_minor": 0
}
